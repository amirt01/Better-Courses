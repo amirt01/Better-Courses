{
 "cells": [
  {
   "cell_type": "code",
   "execution_count": 6,
   "outputs": [
    {
     "name": "stdout",
     "output_type": "stream",
     "text": [
      "Imports Completed\n"
     ]
    }
   ],
   "source": [
    "# imports\n",
    "\n",
    "from catalog import Catalog\n",
    "\n",
    "print('Imports Completed')"
   ],
   "metadata": {
    "collapsed": false,
    "pycharm": {
     "name": "#%%\n"
    }
   }
  },
  {
   "cell_type": "code",
   "execution_count": 7,
   "outputs": [
    {
     "name": "stdout",
     "output_type": "stream",
     "text": [
      "Variables Initialized\n"
     ]
    }
   ],
   "source": [
    "# variable setup\n",
    "catalog = Catalog('catalog.json')\n",
    "\n",
    "print('Variables Initialized')"
   ],
   "metadata": {
    "collapsed": false,
    "pycharm": {
     "name": "#%%\n"
    }
   }
  },
  {
   "cell_type": "code",
   "execution_count": 8,
   "outputs": [
    {
     "name": "stdout",
     "output_type": "stream",
     "text": [
      "ENGRMAE 152\n",
      "\t(ENGRMAE 150 or ENGR 150)\n",
      "\tENGRMAE 120\n",
      "\t\tENGRMAE 130B\n",
      "\t\t\tENGRMAE 130A\n",
      "\t\t\t\tPHYSICS 7C\n",
      "\t\t\t\t\tPHYSICS 2 or (MATH 2D\n",
      "\t\t\t\t\t(CHEM 1C or CHEM H2C or CHEM M3C) or CHEM M2C) or AP Physics C: Mechanics or AP Physics C: Electricity\n",
      "\t\t\t\t\tMagnetism or SAT Mathematics or ACT Mathematics\n",
      "\t\t\t\tMATH 2D\n",
      "\t\t\t\t\tMATH 2B or MATH 5B or AP Calculus BC\n",
      "\t\t\t\tMATH 2E\n",
      "\t\t\t\t\tMATH 2D or MATH H2D\n",
      "\t\t\t\tMATH 3D\n",
      "\t\t\t\t\t(MATH 3A or MATH H3A)\n",
      "\t\t\t\t\t(MATH 2D or MATH H2D)\n",
      "\t\t\t\t\t(MATH 2B or AP Calculus BC)\n",
      "\t\t\t\t(ENGRMAE 30 or ENGRCEE 30 or ENGR 30)\n",
      "\t\t\t\t(ENGRMAE 80 or ENGRCEE 80 or ENGR 80)\n"
     ]
    }
   ],
   "source": [
    "def make_tree(course, level=0):\n",
    "    print(level * '\\t' + str(course))\n",
    "    if isinstance(course, str):\n",
    "        try:\n",
    "            for prerequisite in catalog[course].prerequisites:\n",
    "                make_tree(prerequisite, level + 1)\n",
    "        except KeyError:\n",
    "            # print(f'{course} is not in the catalog.')\n",
    "            return\n",
    "\n",
    "make_tree('ENGRMAE 152')"
   ],
   "metadata": {
    "collapsed": false,
    "pycharm": {
     "name": "#%%\n"
    }
   }
  },
  {
   "cell_type": "code",
   "execution_count": 15,
   "outputs": [
    {
     "name": "stdout",
     "output_type": "stream",
     "text": [
      "section: ENGRMAE\n",
      "code: 120\n",
      "title: Heat and Mass Transfer\n",
      "units: 4\n",
      "description: Fundamentals of heat and mass transfer. Conduction, heat and mass transfer by convection in laminar and turbulent flows, radiation heat transfer, and combined modes of heat and mass transfer. Practical engineering applications.\n",
      "prerequisites: ['ENGRMAE 130B']\n"
     ]
    }
   ],
   "source": [
    "print(repr(catalog[\"ENGRMAE 120\"]))\n"
   ],
   "metadata": {
    "collapsed": false,
    "pycharm": {
     "name": "#%%\n"
    }
   }
  }
 ],
 "metadata": {
  "kernelspec": {
   "display_name": "Python 3",
   "language": "python",
   "name": "python3"
  },
  "language_info": {
   "codemirror_mode": {
    "name": "ipython",
    "version": 2
   },
   "file_extension": ".py",
   "mimetype": "text/x-python",
   "name": "python",
   "nbconvert_exporter": "python",
   "pygments_lexer": "ipython2",
   "version": "2.7.6"
  }
 },
 "nbformat": 4,
 "nbformat_minor": 0
}