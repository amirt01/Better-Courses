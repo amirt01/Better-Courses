{
 "cells": [
  {
   "cell_type": "code",
   "execution_count": 11,
   "outputs": [],
   "source": [
    "# imports\n",
    "\n",
    "from catalog import Catalog\n",
    "from course import Course"
   ],
   "metadata": {
    "collapsed": false,
    "pycharm": {
     "name": "#%%\n"
    }
   }
  },
  {
   "cell_type": "code",
   "execution_count": 12,
   "outputs": [],
   "source": [
    "# variable setup\n",
    "catalog = Catalog()"
   ],
   "metadata": {
    "collapsed": false,
    "pycharm": {
     "name": "#%%\n"
    }
   }
  },
  {
   "cell_type": "code",
   "execution_count": 13,
   "outputs": [],
   "source": [
    "catalog.insert(Course('ENGRMAE', 112, 'Propulsion', 4, prerequisites=['ENGRMAE 135']))\n",
    "catalog.insert(Course('ENGRMAE', 135, 'Compressible Flow', 4, prerequisites=['ENGRMAE 130A']))\n",
    "catalog.insert(Course('ENGRMAE', '130A', 'Introduction to Fluid Mechanics', 4, corequisites=['ENGRMAE 91'],\n",
    "                      prerequisites=['PHYSICS 7C', 'MATH 2D', 'Math 2E', 'Math 3D',\n",
    "                                     ['ENGRMAE 30', 'ENGRCEE 30', 'ENGR 30'], ['ENGRMAE 80', 'ENGRCEE 80', 'ENGR 80']]))"
   ],
   "metadata": {
    "collapsed": false,
    "pycharm": {
     "name": "#%%\n"
    }
   }
  },
  {
   "cell_type": "code",
   "execution_count": 31,
   "outputs": [
    {
     "name": "stdout",
     "output_type": "stream",
     "text": [
      "ENGRMAE 112\n",
      "\tENGRMAE 135\n",
      "\t\tENGRMAE 130A\n",
      "\t\t\tPHYSICS 7C\n",
      "PHYSICS 7C is not in the catalog.\n",
      "\t\t\tMATH 2D\n",
      "MATH 2D is not in the catalog.\n",
      "\t\t\tMath 2E\n",
      "Math 2E is not in the catalog.\n",
      "\t\t\tMath 3D\n",
      "Math 3D is not in the catalog.\n",
      "\t\t\t['ENGRMAE 30', 'ENGRCEE 30', 'ENGR 30']\n",
      "\t\t\t['ENGRMAE 80', 'ENGRCEE 80', 'ENGR 80']\n"
     ]
    }
   ],
   "source": [
    "def make_tree(course, level=0):\n",
    "    print(level * '\\t' + str(course))\n",
    "    if isinstance(course, str):\n",
    "        try:\n",
    "            for prerequisite in catalog[course].prerequisites:\n",
    "                make_tree(prerequisite, level + 1)\n",
    "        except KeyError:\n",
    "            print(f'{course} is not in the catalog.')\n",
    "            return\n",
    "\n",
    "\n",
    "make_tree('ENGRMAE 112')"
   ],
   "metadata": {
    "collapsed": false,
    "pycharm": {
     "name": "#%%\n"
    }
   }
  }
 ],
 "metadata": {
  "kernelspec": {
   "display_name": "Python 3",
   "language": "python",
   "name": "python3"
  },
  "language_info": {
   "codemirror_mode": {
    "name": "ipython",
    "version": 2
   },
   "file_extension": ".py",
   "mimetype": "text/x-python",
   "name": "python",
   "nbconvert_exporter": "python",
   "pygments_lexer": "ipython2",
   "version": "2.7.6"
  }
 },
 "nbformat": 4,
 "nbformat_minor": 0
}