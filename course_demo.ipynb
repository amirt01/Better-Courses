{
 "cells": [
  {
   "cell_type": "code",
   "execution_count": 1,
   "outputs": [
    {
     "name": "stdout",
     "output_type": "stream",
     "text": [
      "Imports Completed\n"
     ]
    }
   ],
   "source": [
    "# imports\n",
    "\n",
    "from catalog import Catalog\n",
    "\n",
    "print('Imports Completed')"
   ],
   "metadata": {
    "collapsed": false,
    "pycharm": {
     "name": "#%%\n"
    }
   }
  },
  {
   "cell_type": "code",
   "execution_count": 2,
   "outputs": [
    {
     "name": "stdout",
     "output_type": "stream",
     "text": [
      "Variables Initialized\n"
     ]
    }
   ],
   "source": [
    "# variable setup\n",
    "catalog = Catalog('catalog.json')\n",
    "\n",
    "print('Variables Initialized')"
   ],
   "metadata": {
    "collapsed": false,
    "pycharm": {
     "name": "#%%\n"
    }
   }
  },
  {
   "cell_type": "code",
   "execution_count": 3,
   "outputs": [],
   "source": [
    "def make_tree(course, level=0):\n",
    "    if isinstance(course, list):\n",
    "        print(level * ' ' + str(course))\n",
    "    else:\n",
    "        print(level * '  ' + str(catalog[course]))\n",
    "        if isinstance(course, str):\n",
    "            try:\n",
    "                for prerequisite in catalog[course].prerequisites:\n",
    "                    make_tree(prerequisite, level + 1)\n",
    "            except KeyError:\n",
    "                # print(f'{course} is not in the catalog.')\n",
    "                return"
   ],
   "metadata": {
    "collapsed": false,
    "pycharm": {
     "name": "#%%\n"
    }
   }
  },
  {
   "cell_type": "code",
   "execution_count": 4,
   "outputs": [
    {
     "name": "stdout",
     "output_type": "stream",
     "text": [
      "ENGRMAE 130A\n",
      "  PHYSICS 7C\n",
      "  MATH 2D\n",
      "  MATH 2E\n",
      "  MATH 3D\n",
      "  ['MATH 3A', 'MATH H3A']\n",
      "  ['MATH 2D', 'MATH H2D']\n",
      "  ['MATH 2B', 'AP Calculus BC']\n",
      " ['ENGRMAE 30', 'ENGRCEE 30', 'ENGR 30']\n",
      " ['ENGRMAE 80', 'ENGRCEE 80', 'ENGR 80']\n"
     ]
    }
   ],
   "source": [
    "make_tree('ENGRMAE 130A')"
   ],
   "metadata": {
    "collapsed": false,
    "pycharm": {
     "name": "#%%\n"
    }
   }
  }
 ],
 "metadata": {
  "kernelspec": {
   "display_name": "Python 3",
   "language": "python",
   "name": "python3"
  },
  "language_info": {
   "codemirror_mode": {
    "name": "ipython",
    "version": 2
   },
   "file_extension": ".py",
   "mimetype": "text/x-python",
   "name": "python",
   "nbconvert_exporter": "python",
   "pygments_lexer": "ipython2",
   "version": "2.7.6"
  }
 },
 "nbformat": 4,
 "nbformat_minor": 0
}