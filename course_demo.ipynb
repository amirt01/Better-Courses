{
 "cells": [
  {
   "cell_type": "code",
   "execution_count": 1,
   "outputs": [
    {
     "name": "stdout",
     "output_type": "stream",
     "text": [
      "Imports Completed\n"
     ]
    }
   ],
   "source": [
    "# imports\n",
    "\n",
    "from catalog import Catalog\n",
    "\n",
    "print('Imports Completed')"
   ],
   "metadata": {
    "collapsed": false,
    "pycharm": {
     "name": "#%%\n"
    }
   }
  },
  {
   "cell_type": "code",
   "execution_count": 2,
   "outputs": [
    {
     "name": "stdout",
     "output_type": "stream",
     "text": [
      "Variables Initialized\n"
     ]
    }
   ],
   "source": [
    "# variable setup\n",
    "catalog = Catalog('catalog.json')\n",
    "\n",
    "print('Variables Initialized')"
   ],
   "metadata": {
    "collapsed": false,
    "pycharm": {
     "name": "#%%\n"
    }
   }
  },
  {
   "cell_type": "code",
   "execution_count": 6,
   "outputs": [
    {
     "name": "stdout",
     "output_type": "stream",
     "text": [
      "ENGRMAE 112\n",
      "  ENGRMAE 135\n",
      "    ENGRMAE 130A\n",
      "      PHYSICS 7C\n",
      "        PHYSICS 2 or (MATH 2D\n",
      "        (CHEM 1C or CHEM H2C or CHEM M3C) or CHEM M2C) or AP Physics C: Mechanics or AP Physics C: Electricity\n",
      "        Magnetism or SAT Mathematics or ACT Mathematics\n",
      "      MATH 2D\n",
      "        MATH 2B or MATH 5B or AP Calculus BC\n",
      "      MATH 2E\n",
      "        MATH 2D or MATH H2D\n",
      "      MATH 3D\n",
      "        (MATH 3A or MATH H3A)\n",
      "        (MATH 2D or MATH H2D)\n",
      "        (MATH 2B or AP Calculus BC)\n",
      "      (ENGRMAE 30 or ENGRCEE 30 or ENGR 30)\n",
      "      (ENGRMAE 80 or ENGRCEE 80 or ENGR 80)\n"
     ]
    }
   ],
   "source": [
    "def make_tree(course, level=0):\n",
    "    print(level * '  ' + str(course))\n",
    "    if isinstance(course, str):\n",
    "        try:\n",
    "            for prerequisite in catalog[course].prerequisites:\n",
    "                make_tree(prerequisite, level + 1)\n",
    "        except KeyError:\n",
    "            # print(f'{course} is not in the catalog.')\n",
    "            return\n",
    "\n",
    "make_tree('ENGRMAE 112')"
   ],
   "metadata": {
    "collapsed": false,
    "pycharm": {
     "name": "#%%\n"
    }
   }
  },
  {
   "cell_type": "code",
   "execution_count": 5,
   "outputs": [
    {
     "name": "stdout",
     "output_type": "stream",
     "text": [
      "section: ENGRMAE\n",
      "code: 130A\n",
      "title: Introduction to Fluid Mechanics\n",
      "units: 4\n",
      "description: Fundamental concepts; fluid statics; fluid dynamics; Bernoulli's equation; control-volume analysis; basic flow equations of conservation of mass, momentum, and energy; differential analysis; potential flow; viscous incompressible flow.\n",
      "prerequisites: ['PHYSICS 7C', 'MATH 2D', 'MATH 2E', 'MATH 3D', '(ENGRMAE 30 or ENGRCEE 30 or ENGR 30)', '(ENGRMAE 80 or ENGRCEE 80 or ENGR 80)']\n"
     ]
    }
   ],
   "source": [
    "print(repr(catalog[\"ENGRMAE 130A\"]))\n"
   ],
   "metadata": {
    "collapsed": false,
    "pycharm": {
     "name": "#%%\n"
    }
   }
  }
 ],
 "metadata": {
  "kernelspec": {
   "display_name": "Python 3",
   "language": "python",
   "name": "python3"
  },
  "language_info": {
   "codemirror_mode": {
    "name": "ipython",
    "version": 2
   },
   "file_extension": ".py",
   "mimetype": "text/x-python",
   "name": "python",
   "nbconvert_exporter": "python",
   "pygments_lexer": "ipython2",
   "version": "2.7.6"
  }
 },
 "nbformat": 4,
 "nbformat_minor": 0
}