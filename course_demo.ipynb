{
 "cells": [
  {
   "cell_type": "code",
   "execution_count": 1,
   "outputs": [],
   "source": [
    "# imports\n",
    "\n",
    "from catalog import Catalog\n",
    "from course import Course"
   ],
   "metadata": {
    "collapsed": false,
    "pycharm": {
     "name": "#%%\n"
    }
   }
  },
  {
   "cell_type": "code",
   "execution_count": 2,
   "outputs": [],
   "source": [
    "# variable setup\n",
    "catalog = Catalog()"
   ],
   "metadata": {
    "collapsed": false,
    "pycharm": {
     "name": "#%%\n"
    }
   }
  },
  {
   "cell_type": "code",
   "execution_count": 3,
   "outputs": [],
   "source": [
    "catalog.insert(Course('ENGRMAE', 112, 'Propulsion', 4, prerequisites=['ENGRMAE 135']))\n",
    "catalog.insert(Course('ENGRMAE', 135, 'Compressible Flow', 4, prerequisites=['ENGRMAE 130A']))\n",
    "catalog.insert(Course('ENGRMAE', '130A', 'Introduction to Fluid Mechanics', 4, corequisites=['ENGRMAE 91'], prerequisites=['PHYSICS 7C', 'MATH 2D', 'Math 2E', 'Math 3D', ['ENGRMAE 30', 'ENGRCEE 30', 'ENGR 30'], ['ENGRMAE 80', 'ENGRCEE 80', 'ENGR 80']]))"
   ],
   "metadata": {
    "collapsed": false,
    "pycharm": {
     "name": "#%%\n"
    }
   }
  },
  {
   "cell_type": "code",
   "execution_count": 4,
   "outputs": [
    {
     "name": "stdout",
     "output_type": "stream",
     "text": [
      "section: ENGRMAE\n",
      "code: 112\n",
      "title: Propulsion\n",
      "units: 4\n",
      "description: \n",
      "prerequisites: ['ENGRMAE 135']\n",
      "\n",
      "section: ENGRMAE\n",
      "code: 135\n",
      "title: Compressible Flow\n",
      "units: 4\n",
      "description: \n",
      "prerequisites: ['ENGRMAE 130A']\n",
      "\n",
      "section: ENGRMAE\n",
      "code: 130A\n",
      "title: Introduction to Fluid Mechanics\n",
      "units: 4\n",
      "description: \n",
      "prerequisites: ['PHYSICS 7C', 'MATH 2D', 'Math 2E', 'Math 3D', ['ENGRMAE 30', 'ENGRCEE 30', 'ENGR 30'], ['ENGRMAE 80', 'ENGRCEE 80', 'ENGR 80']]\n"
     ]
    }
   ],
   "source": [
    "print(catalog)"
   ],
   "metadata": {
    "collapsed": false,
    "pycharm": {
     "name": "#%%\n"
    }
   }
  }
 ],
 "metadata": {
  "kernelspec": {
   "display_name": "Python 3",
   "language": "python",
   "name": "python3"
  },
  "language_info": {
   "codemirror_mode": {
    "name": "ipython",
    "version": 2
   },
   "file_extension": ".py",
   "mimetype": "text/x-python",
   "name": "python",
   "nbconvert_exporter": "python",
   "pygments_lexer": "ipython2",
   "version": "2.7.6"
  }
 },
 "nbformat": 4,
 "nbformat_minor": 0
}