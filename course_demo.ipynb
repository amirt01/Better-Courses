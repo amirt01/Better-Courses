{
 "cells": [
  {
   "cell_type": "code",
   "execution_count": 14,
   "outputs": [],
   "source": [
    "# imports\n",
    "\n",
    "from catalog import Catalog\n",
    "from course import Course"
   ],
   "metadata": {
    "collapsed": false,
    "pycharm": {
     "name": "#%%\n"
    }
   }
  },
  {
   "cell_type": "code",
   "execution_count": 15,
   "outputs": [],
   "source": [
    "# variable setup\n",
    "catalog = Catalog()"
   ],
   "metadata": {
    "collapsed": false,
    "pycharm": {
     "name": "#%%\n"
    }
   }
  },
  {
   "cell_type": "code",
   "execution_count": 29,
   "outputs": [],
   "source": [
    "catalog.insert(Course('ENGRMAE', 112, 'Propulsion', 4, prerequisites=['ENGRMAE 135']))\n",
    "catalog.insert(Course('ENGRMAE', 135, 'Compressible Flow', 4, prerequisites=['ENGRMAE 130A']))\n",
    "catalog.insert(Course('ENGRMAE', '130A', 'Introduction to Fluid Mechanics', 4, corequisites=['ENGRMAE 91'],\n",
    "                      prerequisites=['PHYSICS 7C', 'MATH 2D', 'MATH 2E', 'MATH 3D',\n",
    "                                     ['ENGRMAE 30', 'ENGRCEE 30', 'ENGR 30'], ['ENGRMAE 80', 'ENGRCEE 80', 'ENGR 80']]))\n",
    "catalog.insert(Course('PHYSICS', '7C', 'Classical Physics', 4, prerequisites=['PHYSICS 2']))\n",
    "catalog.insert(Course('PHYSICS', '2', 'Introduction to Mathematical Methods for Physics', 4,\n",
    "                      prerequisites=[['MATH 2A', 'MATH 5A']]))\n",
    "catalog.insert(Course('MATH', '2D', 'Multivariable Calculus', 4, prerequisites=[['MATH 2B', 'MATH 5B']]))\n",
    "catalog.insert(Course('MATH', '2E', 'Multivariable Calculus', 4, prerequisites=[['MATH 2D', 'MATH H2D']]))\n",
    "catalog.insert(Course('MATH', '3D', 'Elementary Differential Equations', 4,\n",
    "                      prerequisites=[['MATH 3A', 'MATH H3A'], ['MATH 2D', 'MATH H2D'], 'MATH 2B']))\n",
    "catalog.insert(Course('MATH', '2B', 'Single-Variable Calculus', 4, prerequisites=[['Math 2A', 'Math 5A']]))"
   ],
   "metadata": {
    "collapsed": false,
    "pycharm": {
     "name": "#%%\n"
    }
   }
  },
  {
   "cell_type": "code",
   "execution_count": 32,
   "outputs": [
    {
     "name": "stdout",
     "output_type": "stream",
     "text": [
      "ENGRMAE 112\n",
      "\tENGRMAE 135\n",
      "\t\tENGRMAE 130A\n",
      "\t\t\tPHYSICS 7C\n",
      "\t\t\t\tPHYSICS 2\n",
      "\t\t\t\t\t['MATH 2A', 'MATH 5A']\n",
      "\t\t\tMATH 2D\n",
      "\t\t\t\t['MATH 2B', 'MATH 5B']\n",
      "\t\t\tMATH 2E\n",
      "\t\t\t\t['MATH 2D', 'MATH H2D']\n",
      "\t\t\tMATH 3D\n",
      "\t\t\t\t['MATH 3A', 'MATH H3A']\n",
      "\t\t\t\t['MATH 2D', 'MATH H2D']\n",
      "\t\t\t\tMATH 2B\n",
      "\t\t\t\t\t['Math 2A', 'Math 5A']\n",
      "\t\t\t['ENGRMAE 30', 'ENGRCEE 30', 'ENGR 30']\n",
      "\t\t\t['ENGRMAE 80', 'ENGRCEE 80', 'ENGR 80']\n"
     ]
    }
   ],
   "source": [
    "def make_tree(course, level=0):\n",
    "    print(level * '\\t' + str(course))\n",
    "    if isinstance(course, str):\n",
    "        try:\n",
    "            for prerequisite in catalog[course].prerequisites:\n",
    "                make_tree(prerequisite, level + 1)\n",
    "        except KeyError:\n",
    "            # print(f'{course} is not in the catalog.')\n",
    "            return\n",
    "\n",
    "make_tree('ENGRMAE 112')"
   ],
   "metadata": {
    "collapsed": false,
    "pycharm": {
     "name": "#%%\n"
    }
   }
  }
 ],
 "metadata": {
  "kernelspec": {
   "display_name": "Python 3",
   "language": "python",
   "name": "python3"
  },
  "language_info": {
   "codemirror_mode": {
    "name": "ipython",
    "version": 2
   },
   "file_extension": ".py",
   "mimetype": "text/x-python",
   "name": "python",
   "nbconvert_exporter": "python",
   "pygments_lexer": "ipython2",
   "version": "2.7.6"
  }
 },
 "nbformat": 4,
 "nbformat_minor": 0
}