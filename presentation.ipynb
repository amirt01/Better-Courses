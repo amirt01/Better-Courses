{
 "cells": [
  {
   "cell_type": "markdown",
   "metadata": {
    "pycharm": {
     "name": "#%% md\n"
    },
    "slideshow": {
     "slide_type": "slide"
    }
   },
   "source": [
    "# Imports\n",
    "I will delve into how I use each of the imports due as they come up, just know these are the modules that I used\n",
    "in my project/presentation."
   ]
  },
  {
   "cell_type": "code",
   "execution_count": 44,
   "metadata": {
    "pycharm": {
     "name": "#%%\n"
    },
    "slideshow": {
     "slide_type": "fragment"
    }
   },
   "outputs": [],
   "source": [
    "# for classes\n",
    "from dataclasses import dataclass, field, asdict\n",
    "from collections.abc import Mapping\n",
    "from anytree import NodeMixin, LoopError\n",
    "\n",
    "# for files\n",
    "import json\n",
    "\n",
    "# for web scraping\n",
    "from bs4 import BeautifulSoup\n",
    "import requests\n",
    "\n",
    "# for demonstrations\n",
    "import inspect\n",
    "from pprint import pprint\n",
    "from custom_utilities import progress_bar"
   ]
  },
  {
   "cell_type": "markdown",
   "metadata": {
    "collapsed": true,
    "pycharm": {
     "name": "#%% md\n"
    },
    "slideshow": {
     "slide_type": "slide"
    }
   },
   "source": [
    "# Final Project - Course Trees\n",
    "For my final project, I made a data structure that would allow me to quickly lookup and view my college courses and\n",
    "their prerequisites"
   ]
  },
  {
   "cell_type": "markdown",
   "metadata": {
    "pycharm": {
     "name": "#%% md\n"
    },
    "slideshow": {
     "slide_type": "slide"
    }
   },
   "source": [
    "# Course\n",
    "The first thing I needed was an object that could hold all the information of my course. The\n",
    "obvious choice for this was to use a dataclass. I wanted this dataclass to be able to store\n",
    "a lot of key information including:\n",
    "\n",
    "1. Section Name\n",
    "2. Course Code\n",
    "3. Course Title\n",
    "4. Number of Units\n",
    "5. Course Description\n",
    "6. Course Corequisites\n",
    "7. Course Prerequisites\n",
    "\n",
    "I also wanted an extra property called `name` that I will later use to lookup my classes in a dictionary.\n",
    "Additionally, I included a `.__dict__()` method that returns the dataclass properties of the `Course`. This will be\n",
    "very helpful later when I need to save/load my course catalog to a file."
   ]
  },
  {
   "cell_type": "code",
   "execution_count": 45,
   "metadata": {
    "pycharm": {
     "name": "#%%\n"
    },
    "slideshow": {
     "slide_type": "fragment"
    }
   },
   "outputs": [
    {
     "name": "stdout",
     "output_type": "stream",
     "text": [
      "[('__eq__', <function __create_fn__.<locals>.__eq__ at 0x0000028DE7FF85E0>),\n",
      " ('__init__', <function __create_fn__.<locals>.__init__ at 0x0000028DE7FF8550>),\n",
      " ('__repr__', <function __create_fn__.<locals>.__repr__ at 0x0000028DE48E9700>),\n",
      " ('__str__', <function Course.__str__ at 0x0000028DE140FD30>)]\n",
      "{'section': <class 'str'>,\n",
      " 'code': <class 'str'>,\n",
      " 'title': <class 'str'>,\n",
      " 'units': <class 'str'>,\n",
      " 'description': <class 'str'>,\n",
      " 'corequisites': list[str],\n",
      " 'prerequisites': list[str]}\n",
      "Course(section='ENGRMAE', code='135', title='Compressible Flow', units='4', description='', corequisites=[], prerequisites=['ENGRMAE 130A'])\n",
      "ENGRMAE 135\n"
     ]
    }
   ],
   "source": [
    "@dataclass\n",
    "class Course:\n",
    "    section: str = ''\n",
    "    code: str = ''\n",
    "    title: str = ''\n",
    "    units: str = ''\n",
    "    description: str = ''\n",
    "    corequisites: list[str] = field(default_factory=list)\n",
    "    prerequisites: list[str] = field(default_factory=list)\n",
    "\n",
    "    @property\n",
    "    def name(self) -> str:\n",
    "        return self.section + ' ' + self.code\n",
    "\n",
    "    def __dict__(self) -> dict:\n",
    "        return asdict(self)\n",
    "\n",
    "    def __str__(self):\n",
    "        return self.name\n",
    "\n",
    "\n",
    "pprint(inspect.getmembers(Course, inspect.isfunction))\n",
    "pprint(Course.__annotations__, sort_dicts=False)\n",
    "\n",
    "engrmae_135 = Course('ENGRMAE', '135', 'Compressible Flow', '4', prerequisites=['ENGRMAE 130A'])\n",
    "print(engrmae_135.__repr__())\n",
    "print(engrmae_135.name)"
   ]
  },
  {
   "cell_type": "markdown",
   "metadata": {
    "pycharm": {
     "name": "#%% md\n"
    },
    "slideshow": {
     "slide_type": "slide"
    }
   },
   "source": [
    "# AttributeMap\n",
    "Now that I had a basic Course class implemented, I needed a way to store all the courses. The functionality I\n",
    "wanted was to be able to call an `.add(course)` method that would take a course and add it to a dictionary with\n",
    "the key being the `course.name`.\n",
    "\n",
    "To do this, I created a class called AttributeMap. When instantiated, this class accepts a `key_attribute` which\n",
    "it uses when adding an object to its dictionary. To streamline my code, I inherited from `collections.abc.Mapping`.\n",
    "This ABC is extremely useful in providing mixin methods for mapping objects, such as my AttributeMap.\n",
    "\n",
    "In addition to `key_attribute`, I also wanted to have a `key_transform` argument that would allow the user to\n",
    "specify any modifications they'd like to have done to their key. By default, this is just an identity function."
   ]
  },
  {
   "cell_type": "code",
   "execution_count": 46,
   "metadata": {
    "pycharm": {
     "name": "#%%\n"
    },
    "slideshow": {
     "slide_type": "fragment"
    }
   },
   "outputs": [
    {
     "name": "stdout",
     "output_type": "stream",
     "text": [
      "[('__contains__', <function Mapping.__contains__ at 0x0000028DD67FD160>),\n",
      " ('__eq__', <function Mapping.__eq__ at 0x0000028DD67FD3A0>),\n",
      " ('__getitem__', <function AttributeMap.__getitem__ at 0x0000028DE7EB75E0>),\n",
      " ('__init__', <function AttributeMap.__init__ at 0x0000028DE7EB74C0>),\n",
      " ('__iter__', <function AttributeMap.__iter__ at 0x0000028DE7EB7E50>),\n",
      " ('__len__', <function AttributeMap.__len__ at 0x0000028DE7EB7B80>),\n",
      " ('__repr__', <function AttributeMap.__repr__ at 0x0000028DE4889040>),\n",
      " ('_key_maker', <function AttributeMap._key_maker at 0x0000028DE7EB7AF0>),\n",
      " ('add', <function AttributeMap.add at 0x0000028DE7EB7CA0>),\n",
      " ('get', <function Mapping.get at 0x0000028DD67FD0D0>),\n",
      " ('items', <function Mapping.items at 0x0000028DD67FD280>),\n",
      " ('keys', <function Mapping.keys at 0x0000028DD67FD1F0>),\n",
      " ('values', <function Mapping.values at 0x0000028DD67FD310>)]\n"
     ]
    }
   ],
   "source": [
    "class AttributeMap(Mapping):\n",
    "    \"\"\"\n",
    "    Abstract Methods: __getitem__, __iter__, and __len__\n",
    "    Mixin Methods: __contains__, keys, items, values, get, __eq__, and __ne__\n",
    "    \"\"\"\n",
    "\n",
    "    def __init__(self, key_attribute, key_transform=lambda key: key):\n",
    "        self._storage = dict()\n",
    "        self._key_attribute = key_attribute\n",
    "        self._key_transform = key_transform\n",
    "\n",
    "    def __getitem__(self, key: str):\n",
    "        return self._storage[self._key_transform(key)]\n",
    "\n",
    "    def __iter__(self):\n",
    "        return iter(self._storage)\n",
    "\n",
    "    def __len__(self):\n",
    "        return len(self._storage)\n",
    "\n",
    "    def _key_maker(self, value):\n",
    "        return self._key_transform(getattr(value, self._key_attribute))\n",
    "\n",
    "    def add(self, course):\n",
    "        key = self._key_maker(course)\n",
    "        self._storage[key] = course\n",
    "        return key\n",
    "\n",
    "    def __repr__(self):\n",
    "        return f'{type(self).__name__}(key_attribute={self._key_attribute}, key_transform={self._key_transform}, len={len(self)})'\n",
    "\n",
    "pprint(inspect.getmembers(AttributeMap, inspect.isfunction), sort_dicts=False)"
   ]
  },
  {
   "cell_type": "markdown",
   "metadata": {
    "slideshow": {
     "slide_type": "slide"
    }
   },
   "source": [
    "# Catalog\n",
    "Now that I have the framework for an AttributeMap, I need to implement it to function as a course catalog. To do\n",
    "this, all I need to do is inherit from AttributeMap, and initialize the key_attribute to be `name`. For extra\n",
    "functionality, I set `key_transformer=str.upper` which will correct any variations in the online catalog.\n",
    "\n",
    "I also wanted to have the ability to save my Catalog as a json file in order to provide quicker load times with\n",
    "repeated use. To do this, I used the native Python json library and the `Course.__dict__` method that I set up\n",
    "earlier. This was a huge quality of life improvement as I no longer needed to scrape the UCI online catalog each\n",
    "time I wanted to use my program."
   ]
  },
  {
   "cell_type": "code",
   "execution_count": 47,
   "metadata": {
    "pycharm": {
     "name": "#%%\n"
    },
    "slideshow": {
     "slide_type": "fragment"
    }
   },
   "outputs": [
    {
     "name": "stdout",
     "output_type": "stream",
     "text": [
      "catalog['engrmae 135'] is engrmae_135=True\n"
     ]
    }
   ],
   "source": [
    "class Catalog(AttributeMap):\n",
    "    def __init__(self, path: str = None):\n",
    "        super().__init__(key_attribute='name', key_transform=str.upper)\n",
    "        if path:\n",
    "            self.load_from_file(path)\n",
    "\n",
    "    def save_to_file(self, path: str):\n",
    "        with open(path, 'w') as outfile:\n",
    "            outfile.write(json.dumps([course.__dict__() for course in self.values()]))\n",
    "\n",
    "    def load_from_file(self, path: str):\n",
    "        with open(path, 'r') as infile:\n",
    "            for course_dict in json.loads(infile.read()):\n",
    "                self.add(Course(*course_dict.values()))\n",
    "\n",
    "catalog = Catalog()\n",
    "catalog.add(engrmae_135)\n",
    "print(f\"{catalog['engrmae 135'] is engrmae_135=}\")"
   ]
  },
  {
   "cell_type": "markdown",
   "metadata": {
    "slideshow": {
     "slide_type": "slide"
    }
   },
   "source": [
    "# Catalog Builder\n",
    "Alright, now that I've set up all the data structures, it's time to get to work processing the\n",
    "UCI online catalog. The first thing to do is"
   ]
  },
  {
   "cell_type": "code",
   "execution_count": 48,
   "metadata": {
    "pycharm": {
     "name": "#%%\n"
    },
    "slideshow": {
     "slide_type": "fragment"
    }
   },
   "outputs": [
    {
     "name": "stdout",
     "output_type": "stream",
     "text": [
      " |██████████████████████████████████████████████████| 100.0% , 0.93 it/s\r\n"
     ]
    }
   ],
   "source": [
    "all_courses_url = 'http://catalogue.uci.edu/allcourses/'\n",
    "\n",
    "all_courses_page = requests.get(all_courses_url)\n",
    "all_courses_soup = BeautifulSoup(all_courses_page.content, 'html.parser')\n",
    "\n",
    "section_soups = []\n",
    "a_to_z_index = all_courses_soup.find('div', id='atozindex')\n",
    "\n",
    "for section in progress_bar(a_to_z_index.find_all('a', href=True)):\n",
    "    section_url = all_courses_url + section['href'].split('/')[2]\n",
    "    section_page = requests.get(section_url)\n",
    "    section_soups.append(BeautifulSoup(section_page.content, 'html.parser'))"
   ]
  },
  {
   "cell_type": "markdown",
   "metadata": {
    "pycharm": {
     "name": "#%% md\n"
    },
    "slideshow": {
     "slide_type": "subslide"
    }
   },
   "source": [
    "## Course Blocks\n",
    "Next I clean all the soups into the courses and separate out all the course blocks."
   ]
  },
  {
   "cell_type": "code",
   "execution_count": 49,
   "metadata": {
    "pycharm": {
     "name": "#%%\n"
    },
    "slideshow": {
     "slide_type": "fragment"
    }
   },
   "outputs": [
    {
     "name": "stdout",
     "output_type": "stream",
     "text": [
      " |██████████████████████████████████████████████████| 100.0% , 0.0 it/s\r\n"
     ]
    }
   ],
   "source": [
    "course_blocks = []\n",
    "for section_soup in progress_bar(section_soups):\n",
    "    courses = section_soup.find_all('div', class_='courseblock')\n",
    "    for course in courses:\n",
    "        course_blocks.append((course.find('p', class_='courseblocktitle'), course.find('div', class_='courseblockdesc')))"
   ]
  },
  {
   "cell_type": "markdown",
   "metadata": {
    "pycharm": {
     "name": "#%% md\n"
    },
    "slideshow": {
     "slide_type": "subslide"
    }
   },
   "source": [
    "Alright, now it's time to get crazy. We need to extract all the important information from each\n",
    "of the course blocks. This took a lot of finagling, but I finally got it to work relatively\n",
    "reliably. As we go through all the courses, we package all the info into a `Course` and\n",
    "add it to our catalog."
   ]
  },
  {
   "cell_type": "code",
   "execution_count": 50,
   "metadata": {
    "pycharm": {
     "name": "#%%\n"
    },
    "slideshow": {
     "slide_type": "fragment"
    }
   },
   "outputs": [
    {
     "name": "stdout",
     "output_type": "stream",
     "text": [
      " |██████████████████████████████████████████████████| 100.0% , 0.0 it/s\r\n",
      "Catalog(key_attribute=name, key_transform=<method 'upper' of 'str' objects>, len=5853)\n",
      "ENGRMAE 170\n"
     ]
    }
   ],
   "source": [
    "for course_block_title, course_block_desc in progress_bar(course_blocks):\n",
    "    course_block_title_text = course_block_title.text.split(sep='.')\n",
    "    section_code = course_block_title_text[0].split(sep='\\xa0')\n",
    "    section = ' '.join(section_code[:-1])\n",
    "    code = section_code[-1]\n",
    "    title = course_block_title_text[1].strip()\n",
    "    try:\n",
    "        units = course_block_title_text[2].split()[0]\n",
    "    except IndexError:\n",
    "        units = 0\n",
    "\n",
    "    course_block_desc_children = course_block_desc.findChildren()\n",
    "    description = course_block_desc_children[0].text\n",
    "\n",
    "    design_units = 0\n",
    "    prerequisites = []\n",
    "    corequisites = []\n",
    "\n",
    "    for block in course_block_desc_children:\n",
    "        text = block.text\n",
    "        if 'Prerequisite:' in text:  # Prerequisite\n",
    "            if 'Corequisite:' in text:  # Prerequisite and Corequisite\n",
    "                text = text.split(sep='\\n')\n",
    "                corequisites = text[0].partition(' ')[2].strip().replace('\\xa0', ' ').split(sep='.')[0].split(\n",
    "                    sep=' and ')\n",
    "                prerequisites = text[1].partition(' ')[2].strip().replace('\\xa0', ' ').split(sep='.')[0].split(\n",
    "                    sep=' and ')\n",
    "            else:  # just Prerequisite\n",
    "                prerequisites = text.partition(' ')[2].strip().replace('\\xa0', ' ').split(sep='.')[0].split(sep=' and ')\n",
    "        elif 'Corequisite:' in text:  # just Corequisite\n",
    "            corequisites = text.partition(' ')[2].strip().replace('\\xa0', ' ').split(sep='.')[0].split(sep=' and ')\n",
    "\n",
    "    def attempt_split(li):\n",
    "        if len(li) < 2:\n",
    "            return li\n",
    "        ret = []\n",
    "        for el in li:\n",
    "            if el[0] == '(' and el[-1] == ')':\n",
    "                ret.append(el[1:-1].split(' or '))\n",
    "            else:\n",
    "                ret.append(el)\n",
    "        return ret\n",
    "\n",
    "    catalog.add(Course(section, code, title, units, description,\n",
    "                       attempt_split(corequisites), attempt_split(prerequisites)))\n",
    "\n",
    "print(catalog.__repr__())\n",
    "\n",
    "print(catalog[\"engrmae 170\"])"
   ]
  },
  {
   "cell_type": "markdown",
   "source": [
    "# Trees\n",
    "Awesome! Now that we have all the courses in a local memory and stored in a file, we can start to make some trees to\n",
    "visualize what course progressions I will need to take. To do this, I made Course inherit from anytree.NodeMixin."
   ],
   "metadata": {
    "collapsed": false
   }
  },
  {
   "cell_type": "code",
   "execution_count": 91,
   "outputs": [
    {
     "name": "stdout",
     "output_type": "stream",
     "text": [
      "Cannot set parent. M&MG 203B cannot be parent of itself.\n",
      "Cannot set parent. M&MG 205C cannot be parent of itself.\n"
     ]
    }
   ],
   "source": [
    "class Course(Course, NodeMixin):\n",
    "    def build_tree(self, cat: Catalog):\n",
    "        for prerequisite in self.prerequisites:\n",
    "            try:\n",
    "                children = list(self.children)\n",
    "                children.append(cat[prerequisite])\n",
    "                self.children = children\n",
    "            except (KeyError, TypeError):\n",
    "                # print(f'{prerequisite} not found')\n",
    "                continue\n",
    "            except LoopError:\n",
    "                print(f'Cannot set parent. {prerequisite} cannot be parent of itself.')\n",
    "\n",
    "catalog.load_from_file('catalog.json')  # to reset courses with new Course class\n",
    "\n",
    "for course in catalog.values():\n",
    "    course.build_tree(catalog)"
   ],
   "metadata": {
    "collapsed": false,
    "pycharm": {
     "name": "#%%\n"
    }
   }
  },
  {
   "cell_type": "code",
   "execution_count": 87,
   "outputs": [
    {
     "name": "stdout",
     "output_type": "stream",
     "text": [
      "M&MG 203B:  ['M&MG 203B']\n",
      "M&MG 205C:  ['M&MG 205C']\n"
     ]
    }
   ],
   "source": [
    "print('M&MG 203B: ', catalog['m&mg 203b'].prerequisites)\n",
    "print('M&MG 205C: ', catalog['m&mg 205c'].prerequisites)"
   ],
   "metadata": {
    "collapsed": false,
    "pycharm": {
     "name": "#%%\n"
    }
   }
  }
 ],
 "metadata": {
  "kernelspec": {
   "display_name": "Python 3",
   "language": "python",
   "name": "python3"
  },
  "language_info": {
   "codemirror_mode": {
    "name": "ipython",
    "version": 3
   },
   "file_extension": ".py",
   "mimetype": "text/x-python",
   "name": "python",
   "nbconvert_exporter": "python",
   "pygments_lexer": "ipython3",
   "version": "3.9.5"
  }
 },
 "nbformat": 4,
 "nbformat_minor": 1
}