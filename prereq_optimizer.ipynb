{
 "cells": [
  {
   "cell_type": "code",
   "execution_count": 22,
   "metadata": {
    "collapsed": true
   },
   "outputs": [
    {
     "name": "stdout",
     "output_type": "stream",
     "text": [
      "Imports Completed\n"
     ]
    }
   ],
   "source": [
    "from anytree import Node, RenderTree\n",
    "from catalog import Catalog\n",
    "from course import Course\n",
    "\n",
    "print('Imports Completed')"
   ]
  },
  {
   "cell_type": "code",
   "execution_count": 23,
   "outputs": [
    {
     "name": "stdout",
     "output_type": "stream",
     "text": [
      "Variables Initialized\n"
     ]
    }
   ],
   "source": [
    "# variable setup\n",
    "catalog = Catalog('catalog.json')\n",
    "\n",
    "print('Variables Initialized')"
   ],
   "metadata": {
    "collapsed": false,
    "pycharm": {
     "name": "#%%\n"
    }
   }
  },
  {
   "cell_type": "code",
   "execution_count": 30,
   "outputs": [],
   "source": [
    "def make_tree_recursive(node: Node):\n",
    "    if isinstance(node.name, Course):\n",
    "        course = node.name\n",
    "        try:\n",
    "            for prerequisite in course.prerequisites:\n",
    "                if isinstance(prerequisite, str):\n",
    "                    make_tree_recursive(Node(catalog[prerequisite], parent=node))\n",
    "                elif isinstance(prerequisite, list):\n",
    "                    Node(prerequisite, parent=node)\n",
    "        except KeyError:\n",
    "            # print(f'{course} is not in the catalog.')\n",
    "            return\n",
    "\n",
    "def make_tree(course: str):\n",
    "    course = Node(catalog[course])\n",
    "    make_tree_recursive(course)\n",
    "    return course"
   ],
   "metadata": {
    "collapsed": false,
    "pycharm": {
     "name": "#%%\n"
    }
   }
  },
  {
   "cell_type": "code",
   "execution_count": 31,
   "outputs": [
    {
     "name": "stdout",
     "output_type": "stream",
     "text": [
      "ENGRMAE 112\n",
      "└── ENGRMAE 135\n",
      "    └── ENGRMAE 130A\n",
      "        ├── PHYSICS 7C\n",
      "        ├── MATH 2D\n",
      "        ├── MATH 2E\n",
      "        ├── MATH 3D\n",
      "        │   ├── ['MATH 3A', 'MATH H3A']\n",
      "        │   ├── ['MATH 2D', 'MATH H2D']\n",
      "        │   └── ['MATH 2B', 'AP Calculus BC']\n",
      "        ├── ['ENGRMAE 30', 'ENGRCEE 30', 'ENGR 30']\n",
      "        └── ['ENGRMAE 80', 'ENGRCEE 80', 'ENGR 80']\n"
     ]
    }
   ],
   "source": [
    "tree = make_tree('ENGRMAE 112')\n",
    "\n",
    "for pre, fill, node in RenderTree(tree):\n",
    "    print(\"%s%s\" % (pre, node.name))\n"
   ],
   "metadata": {
    "collapsed": false,
    "pycharm": {
     "name": "#%%\n"
    }
   }
  }
 ],
 "metadata": {
  "kernelspec": {
   "display_name": "Python 3",
   "language": "python",
   "name": "python3"
  },
  "language_info": {
   "codemirror_mode": {
    "name": "ipython",
    "version": 2
   },
   "file_extension": ".py",
   "mimetype": "text/x-python",
   "name": "python",
   "nbconvert_exporter": "python",
   "pygments_lexer": "ipython2",
   "version": "2.7.6"
  }
 },
 "nbformat": 4,
 "nbformat_minor": 0
}