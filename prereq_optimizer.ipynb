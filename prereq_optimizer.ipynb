{
 "cells": [
  {
   "cell_type": "code",
   "execution_count": 29,
   "metadata": {
    "collapsed": true
   },
   "outputs": [
    {
     "name": "stdout",
     "output_type": "stream",
     "text": [
      "Imports Completed\n"
     ]
    }
   ],
   "source": [
    "from anytree import Node, RenderTree\n",
    "from catalog import Catalog\n",
    "from course import Course\n",
    "\n",
    "print('Imports Completed')"
   ]
  },
  {
   "cell_type": "code",
   "execution_count": 30,
   "outputs": [
    {
     "name": "stdout",
     "output_type": "stream",
     "text": [
      "Variables Initialized\n"
     ]
    }
   ],
   "source": [
    "# variable setup\n",
    "catalog = Catalog('catalog.json')\n",
    "\n",
    "print('Variables Initialized')"
   ],
   "metadata": {
    "collapsed": false,
    "pycharm": {
     "name": "#%%\n"
    }
   }
  },
  {
   "cell_type": "code",
   "execution_count": 31,
   "outputs": [
    {
     "name": "stdout",
     "output_type": "stream",
     "text": [
      "Tree Functions Defined\n"
     ]
    }
   ],
   "source": [
    "def make_tree_recursive(node: Node, completed = None):\n",
    "    if completed is None:\n",
    "        completed = []\n",
    "\n",
    "    if isinstance(node.name, Course):\n",
    "        course = node.name\n",
    "        try:\n",
    "            for prerequisite in course.prerequisites:\n",
    "                if isinstance(prerequisite, str) and prerequisite not in completed:\n",
    "                    make_tree_recursive(Node(catalog[prerequisite], parent=node))\n",
    "                elif isinstance(prerequisite, list) and len(set(prerequisite).intersection(completed)) != 0:\n",
    "                    Node(prerequisite, parent=node)\n",
    "        except KeyError:\n",
    "            # print(f'{course} is not in the catalog.')\n",
    "            return\n",
    "\n",
    "def make_tree(course: str, completed: list = None):\n",
    "    course = Node(catalog[course])\n",
    "    make_tree_recursive(course, completed)\n",
    "    return course\n",
    "\n",
    "print('Tree Functions Defined')"
   ],
   "metadata": {
    "collapsed": false,
    "pycharm": {
     "name": "#%%\n"
    }
   }
  },
  {
   "cell_type": "code",
   "execution_count": 35,
   "outputs": [
    {
     "name": "stdout",
     "output_type": "stream",
     "text": [
      "ENGR 54\n",
      "└── ['ENGR 1A', 'CHEM 1A', 'CHEM H2A']\n",
      "\n",
      "ENGRMAE 60\n",
      "├── PHYSICS 7D\n",
      "│   └── PHYSICS 7C\n",
      "└── PHYSICS 7LD\n",
      "\n",
      "ENGRMAE 80\n",
      "└── PHYSICS 7C\n",
      "\n",
      "ENGRMAE 91\n",
      "└── PHYSICS 7C\n",
      "\n",
      "ENGRMAE 106\n",
      "\n",
      "ENGRMAE 107\n",
      "\n",
      "ENGRMAE 115\n",
      "\n",
      "ENGRMAE 120\n",
      "└── ENGRMAE 130B\n",
      "    └── ENGRMAE 130A\n",
      "        ├── PHYSICS 7C\n",
      "        ├── MATH 2D\n",
      "        ├── MATH 2E\n",
      "        └── MATH 3D\n",
      "\n",
      "ENGRMAE 130A\n",
      "├── PHYSICS 7C\n",
      "└── ['ENGRMAE 30', 'ENGRCEE 30', 'ENGR 30']\n",
      "\n",
      "ENGRMAE 145\n",
      "└── ['MATH 3A', 'I&C SCI 6N']\n",
      "\n",
      "ENGRMAE 147\n",
      "\n",
      "ENGRMAE 150\n",
      "└── ['ENGRCEE 30', 'ENGR 30', 'ENGRMAE 30']\n",
      "\n",
      "ENGRMAE 150L\n",
      "\n",
      "ENGRMAE 151\n",
      "├── ENGRMAE 120\n",
      "│   └── ENGRMAE 130B\n",
      "│       └── ENGRMAE 130A\n",
      "│           ├── PHYSICS 7C\n",
      "│           ├── MATH 2D\n",
      "│           ├── MATH 2E\n",
      "│           └── MATH 3D\n",
      "└── ENGRMAE 145\n",
      "    └── ENGRMAE 52\n",
      "\n",
      "ENGRMAE 156\n",
      "└── ENGR 54\n",
      "\n",
      "ENGRMAE 170\n",
      "└── ENGRMAE 106\n",
      "\n",
      "ENGRMAE 189\n",
      "\n",
      "ENGR 190W\n",
      "\n",
      "ENGRMAE 130B\n",
      "└── ENGRMAE 130A\n",
      "    ├── PHYSICS 7C\n",
      "    ├── MATH 2D\n",
      "    ├── MATH 2E\n",
      "    └── MATH 3D\n",
      "\n",
      "ENGR 199\n",
      "\n",
      "ENGRMAE 183\n",
      "\n",
      "ENGRMAE 152\n",
      "└── ENGRMAE 120\n",
      "    └── ENGRMAE 130B\n",
      "        └── ENGRMAE 130A\n",
      "            ├── PHYSICS 7C\n",
      "            ├── MATH 2D\n",
      "            ├── MATH 2E\n",
      "            └── MATH 3D\n",
      "\n",
      "ENGRMAE 172\n",
      "└── ENGRMAE 170\n",
      "    └── ENGRMAE 106\n",
      "\n",
      "['CHEM 1A', 'CHEM 1LE', 'MATH 2A', 'MATH 2B', 'MATH 2D', 'MATH 2E', 'MATH 3A', 'MATH 3D', 'PHYS 7C', 'PHYS 7LC', 'PHYS 7D', 'PHYS 7LD', 'PHYS 7E', 'PHYS 52A', 'ENGRMAE 10', 'ENGRMAE 30', 'ECON 20A', 'ENGRMAE 52', 'EECS 70A']\n"
     ]
    }
   ],
   "source": [
    "with open('completed_courses.txt', 'r') as infile:\n",
    "    completed = [course.strip().upper() for course in infile.readlines()]\n",
    "\n",
    "with open('planned_courses.txt', 'r') as infile:\n",
    "    trees = [make_tree(course.strip(), completed) for course in infile.readlines()]\n",
    "\n",
    "for tree in trees:\n",
    "    for pre, fill, node in RenderTree(tree):\n",
    "        print(\"%s%s\" % (pre, node.name))\n",
    "    print()\n",
    "\n",
    "print(completed)"
   ],
   "metadata": {
    "collapsed": false,
    "pycharm": {
     "name": "#%%\n"
    }
   }
  },
  {
   "cell_type": "code",
   "execution_count": 33,
   "outputs": [
    {
     "name": "stdout",
     "output_type": "stream",
     "text": [
      "ENGRMAE 60\n",
      "├── PHYSICS 7D\n",
      "│   └── PHYSICS 7C\n",
      "└── PHYSICS 7LD\n"
     ]
    }
   ],
   "source": [
    "tallest_tree = max(trees, key=lambda t: t.height)\n",
    "for pre, fill, node in RenderTree(tallest_tree):\n",
    "        print(\"%s%s\" % (pre, node.name))"
   ],
   "metadata": {
    "collapsed": false,
    "pycharm": {
     "name": "#%%\n"
    }
   }
  }
 ],
 "metadata": {
  "kernelspec": {
   "display_name": "Python 3",
   "language": "python",
   "name": "python3"
  },
  "language_info": {
   "codemirror_mode": {
    "name": "ipython",
    "version": 2
   },
   "file_extension": ".py",
   "mimetype": "text/x-python",
   "name": "python",
   "nbconvert_exporter": "python",
   "pygments_lexer": "ipython2",
   "version": "2.7.6"
  }
 },
 "nbformat": 4,
 "nbformat_minor": 0
}