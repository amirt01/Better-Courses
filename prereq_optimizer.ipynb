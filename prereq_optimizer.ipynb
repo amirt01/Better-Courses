{
 "cells": [
  {
   "cell_type": "code",
   "execution_count": 1,
   "metadata": {
    "collapsed": true
   },
   "outputs": [
    {
     "name": "stdout",
     "output_type": "stream",
     "text": [
      "Imports Completed\n"
     ]
    }
   ],
   "source": [
    "from anytree import Node, RenderTree\n",
    "from catalog import Catalog\n",
    "from course import Course\n",
    "\n",
    "print('Imports Completed')"
   ]
  },
  {
   "cell_type": "code",
   "execution_count": 2,
   "outputs": [
    {
     "name": "stdout",
     "output_type": "stream",
     "text": [
      "Variables Initialized\n"
     ]
    }
   ],
   "source": [
    "# variable setup\n",
    "catalog = Catalog('catalog.json')\n",
    "\n",
    "print('Variables Initialized')"
   ],
   "metadata": {
    "collapsed": false,
    "pycharm": {
     "name": "#%%\n"
    }
   }
  },
  {
   "cell_type": "code",
   "execution_count": 3,
   "outputs": [
    {
     "name": "stdout",
     "output_type": "stream",
     "text": [
      "Tree Functions Defined\n"
     ]
    }
   ],
   "source": [
    "def make_tree_recursive(node: Node):\n",
    "    if isinstance(node.name, Course):\n",
    "        course = node.name\n",
    "        try:\n",
    "            for prerequisite in course.prerequisites:\n",
    "                if isinstance(prerequisite, str):\n",
    "                    make_tree_recursive(Node(catalog[prerequisite], parent=node))\n",
    "                elif isinstance(prerequisite, list):\n",
    "                    Node(prerequisite, parent=node)\n",
    "        except KeyError:\n",
    "            # print(f'{course} is not in the catalog.')\n",
    "            return\n",
    "\n",
    "def make_tree(course: str):\n",
    "    course = Node(catalog[course])\n",
    "    make_tree_recursive(course)\n",
    "    return course\n",
    "\n",
    "print('Tree Functions Defined')"
   ],
   "metadata": {
    "collapsed": false,
    "pycharm": {
     "name": "#%%\n"
    }
   }
  },
  {
   "cell_type": "code",
   "execution_count": 7,
   "outputs": [
    {
     "name": "stdout",
     "output_type": "stream",
     "text": [
      "ENGR 54\n",
      "└── ['ENGR 1A', 'CHEM 1A', 'CHEM H2A']\n",
      "\n",
      "ENGRMAE 60\n",
      "├── PHYSICS 7D\n",
      "│   ├── PHYSICS 7C\n",
      "│   └── ['MATH 2B', 'AP Calculus BC']\n",
      "└── PHYSICS 7LD\n",
      "\n",
      "ENGRMAE 80\n",
      "├── MATH 2D\n",
      "└── PHYSICS 7C\n",
      "\n",
      "ENGRMAE 91\n",
      "├── PHYSICS 7C\n",
      "└── MATH 2D\n",
      "\n",
      "ENGRMAE 106\n",
      "\n",
      "ENGRMAE 107\n",
      "\n",
      "ENGRMAE 115\n",
      "\n",
      "ENGRMAE 120\n",
      "└── ENGRMAE 130B\n",
      "    └── ENGRMAE 130A\n",
      "        ├── PHYSICS 7C\n",
      "        ├── MATH 2D\n",
      "        ├── MATH 2E\n",
      "        ├── MATH 3D\n",
      "        │   ├── ['MATH 3A', 'MATH H3A']\n",
      "        │   ├── ['MATH 2D', 'MATH H2D']\n",
      "        │   └── ['MATH 2B', 'AP Calculus BC']\n",
      "        ├── ['ENGRMAE 30', 'ENGRCEE 30', 'ENGR 30']\n",
      "        └── ['ENGRMAE 80', 'ENGRCEE 80', 'ENGR 80']\n",
      "\n",
      "ENGRMAE 130A\n",
      "├── PHYSICS 7C\n",
      "├── MATH 2D\n",
      "├── MATH 2E\n",
      "├── MATH 3D\n",
      "│   ├── ['MATH 3A', 'MATH H3A']\n",
      "│   ├── ['MATH 2D', 'MATH H2D']\n",
      "│   └── ['MATH 2B', 'AP Calculus BC']\n",
      "├── ['ENGRMAE 30', 'ENGRCEE 30', 'ENGR 30']\n",
      "└── ['ENGRMAE 80', 'ENGRCEE 80', 'ENGR 80']\n",
      "\n",
      "ENGRMAE 145\n",
      "├── ENGRMAE 52\n",
      "├── ['ENGRMAE 80', 'ENGRCEE 80', 'ENGR 80']\n",
      "└── ['MATH 3A', 'I&C SCI 6N']\n",
      "\n",
      "ENGRMAE 147\n",
      "├── ['ENGR 80', 'ENGRCEE 80', 'ENGRMAE 80']\n",
      "├── MATH 2E\n",
      "└── MATH 3D\n",
      "    ├── ['MATH 3A', 'MATH H3A']\n",
      "    ├── ['MATH 2D', 'MATH H2D']\n",
      "    └── ['MATH 2B', 'AP Calculus BC']\n",
      "\n",
      "ENGRMAE 150\n",
      "├── ['ENGRCEE 30', 'ENGR 30', 'ENGRMAE 30']\n",
      "└── MATH 3A\n",
      "\n",
      "ENGRMAE 150L\n",
      "\n",
      "ENGRMAE 151\n",
      "├── ENGRMAE 120\n",
      "│   └── ENGRMAE 130B\n",
      "│       └── ENGRMAE 130A\n",
      "│           ├── PHYSICS 7C\n",
      "│           ├── MATH 2D\n",
      "│           ├── MATH 2E\n",
      "│           ├── MATH 3D\n",
      "│           │   ├── ['MATH 3A', 'MATH H3A']\n",
      "│           │   ├── ['MATH 2D', 'MATH H2D']\n",
      "│           │   └── ['MATH 2B', 'AP Calculus BC']\n",
      "│           ├── ['ENGRMAE 30', 'ENGRCEE 30', 'ENGR 30']\n",
      "│           └── ['ENGRMAE 80', 'ENGRCEE 80', 'ENGR 80']\n",
      "└── ENGRMAE 145\n",
      "    ├── ENGRMAE 52\n",
      "    ├── ['ENGRMAE 80', 'ENGRCEE 80', 'ENGR 80']\n",
      "    └── ['MATH 3A', 'I&C SCI 6N']\n",
      "\n",
      "ENGRMAE 156\n",
      "└── ENGR 54\n",
      "    └── ['ENGR 1A', 'CHEM 1A', 'CHEM H2A']\n",
      "\n",
      "ENGRMAE 170\n",
      "├── ['ENGRMAE 80', 'ENGRCEE 80', 'ENGR 80']\n",
      "└── ENGRMAE 106\n",
      "\n",
      "ENGRMAE 189\n",
      "\n",
      "ENGR 190W\n",
      "\n",
      "ENGRMAE 130B\n",
      "└── ENGRMAE 130A\n",
      "    ├── PHYSICS 7C\n",
      "    ├── MATH 2D\n",
      "    ├── MATH 2E\n",
      "    ├── MATH 3D\n",
      "    │   ├── ['MATH 3A', 'MATH H3A']\n",
      "    │   ├── ['MATH 2D', 'MATH H2D']\n",
      "    │   └── ['MATH 2B', 'AP Calculus BC']\n",
      "    ├── ['ENGRMAE 30', 'ENGRCEE 30', 'ENGR 30']\n",
      "    └── ['ENGRMAE 80', 'ENGRCEE 80', 'ENGR 80']\n",
      "\n",
      "ENGR 199\n",
      "\n",
      "ENGRMAE 183\n",
      "\n",
      "ENGRMAE 152\n",
      "├── ['ENGRMAE 150', 'ENGR 150']\n",
      "└── ENGRMAE 120\n",
      "    └── ENGRMAE 130B\n",
      "        └── ENGRMAE 130A\n",
      "            ├── PHYSICS 7C\n",
      "            ├── MATH 2D\n",
      "            ├── MATH 2E\n",
      "            ├── MATH 3D\n",
      "            │   ├── ['MATH 3A', 'MATH H3A']\n",
      "            │   ├── ['MATH 2D', 'MATH H2D']\n",
      "            │   └── ['MATH 2B', 'AP Calculus BC']\n",
      "            ├── ['ENGRMAE 30', 'ENGRCEE 30', 'ENGR 30']\n",
      "            └── ['ENGRMAE 80', 'ENGRCEE 80', 'ENGR 80']\n",
      "\n",
      "ENGRMAE 172\n",
      "└── ENGRMAE 170\n",
      "    ├── ['ENGRMAE 80', 'ENGRCEE 80', 'ENGR 80']\n",
      "    └── ENGRMAE 106\n",
      "\n"
     ]
    }
   ],
   "source": [
    "with open('planned_courses.txt', 'r') as infile:\n",
    "    trees = [make_tree(course.strip()) for course in infile.readlines()]\n",
    "\n",
    "for tree in trees:\n",
    "    for pre, fill, node in RenderTree(tree):\n",
    "        print(\"%s%s\" % (pre, node.name))\n",
    "    print()\n"
   ],
   "metadata": {
    "collapsed": false,
    "pycharm": {
     "name": "#%%\n"
    }
   }
  }
 ],
 "metadata": {
  "kernelspec": {
   "display_name": "Python 3",
   "language": "python",
   "name": "python3"
  },
  "language_info": {
   "codemirror_mode": {
    "name": "ipython",
    "version": 2
   },
   "file_extension": ".py",
   "mimetype": "text/x-python",
   "name": "python",
   "nbconvert_exporter": "python",
   "pygments_lexer": "ipython2",
   "version": "2.7.6"
  }
 },
 "nbformat": 4,
 "nbformat_minor": 0
}