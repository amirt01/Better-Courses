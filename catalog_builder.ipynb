{
 "cells": [
  {
   "cell_type": "code",
   "execution_count": 4,
   "metadata": {
    "collapsed": true
   },
   "outputs": [
    {
     "name": "stdout",
     "output_type": "stream",
     "text": [
      "Imports Completed\n"
     ]
    }
   ],
   "source": [
    "# imports\n",
    "\n",
    "from catalog import Catalog\n",
    "from course import Course\n",
    "\n",
    "from bs4 import BeautifulSoup\n",
    "import requests\n",
    "\n",
    "print('Imports Completed')"
   ]
  },
  {
   "cell_type": "code",
   "execution_count": 5,
   "outputs": [
    {
     "name": "stdout",
     "output_type": "stream",
     "text": [
      "Variables Initialized\n"
     ]
    }
   ],
   "source": [
    "# variable setup\n",
    "catalog = Catalog()\n",
    "\n",
    "catalog_url = 'http://catalogue.uci.edu/allcourses/engrmae/'\n",
    "save_file_path = 'catalog.json'\n",
    "\n",
    "print('Variables Initialized')"
   ],
   "metadata": {
    "collapsed": false,
    "pycharm": {
     "name": "#%%\n"
    }
   }
  },
  {
   "cell_type": "code",
   "execution_count": 8,
   "outputs": [
    {
     "name": "stdout",
     "output_type": "stream",
     "text": [
      "Catalog Filled\n"
     ]
    }
   ],
   "source": [
    "page = requests.get(catalog_url)\n",
    "soup = BeautifulSoup(page.content, 'html.parser')\n",
    "\n",
    "courses = soup.find_all('div', class_='courseblock')\n",
    "\n",
    "for course in courses:\n",
    "    course_block_title = course.find('p', class_='courseblocktitle')\n",
    "    course_block_desc = course.find('div', class_='courseblockdesc')\n",
    "\n",
    "    course_block_title_text = course_block_title.text.split(sep='.')\n",
    "    section, code = course_block_title_text[0].split(sep='\\xa0')\n",
    "    title = course_block_title_text[1].strip()\n",
    "    units = course_block_title_text[2].split()[0]\n",
    "\n",
    "    course_block_desc_children = course_block_desc.findChildren()\n",
    "    description = course_block_desc_children[0].text\n",
    "\n",
    "    design_units = 0\n",
    "    prerequisites = ''\n",
    "    corequisites = ''\n",
    "\n",
    "    for block in course_block_desc_children:\n",
    "        text = block.text\n",
    "        if 'Prerequisite' in text:\n",
    "            if 'Corequisite' in text:\n",
    "                text = text.split(sep='\\n')\n",
    "                corequisites = text[0].partition(' ')[2].strip().replace('\\xa0', ' ')\n",
    "                prerequisites = text[1].partition(' ')[2].strip().replace('\\xa0', ' ')\n",
    "            else:\n",
    "                prerequisites = text.partition(' ')[2].strip().replace('\\xa0', ' ')\n",
    "        elif 'Corequisite' in text:\n",
    "            corequisites = text.partition(' ')[2].strip().replace('\\xa0', ' ')\n",
    "        elif 'Design units' in text:\n",
    "            design_units = text.strip('()').split()[-1]\n",
    "\n",
    "    catalog.add(Course(section, code, title, units, description,\n",
    "                          design_units, corequisites, prerequisites))\n",
    "\n",
    "print('Catalog Filled')"
   ],
   "metadata": {
    "collapsed": false,
    "pycharm": {
     "name": "#%%\n"
    }
   }
  },
  {
   "cell_type": "code",
   "execution_count": 10,
   "outputs": [
    {
     "name": "stdout",
     "output_type": "stream",
     "text": [
      "File Saved\n"
     ]
    }
   ],
   "source": [
    "catalog.save_to_file(save_file_path)\n",
    "\n",
    "print('File Saved')"
   ],
   "metadata": {
    "collapsed": false,
    "pycharm": {
     "name": "#%%\n"
    }
   }
  }
 ],
 "metadata": {
  "kernelspec": {
   "display_name": "Python 3",
   "language": "python",
   "name": "python3"
  },
  "language_info": {
   "codemirror_mode": {
    "name": "ipython",
    "version": 2
   },
   "file_extension": ".py",
   "mimetype": "text/x-python",
   "name": "python",
   "nbconvert_exporter": "python",
   "pygments_lexer": "ipython2",
   "version": "2.7.6"
  }
 },
 "nbformat": 4,
 "nbformat_minor": 0
}