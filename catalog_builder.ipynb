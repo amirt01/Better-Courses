{
 "cells": [
  {
   "cell_type": "code",
   "execution_count": 25,
   "metadata": {
    "collapsed": true
   },
   "outputs": [],
   "source": [
    "# imports\n",
    "\n",
    "from catalog import Catalog\n",
    "from course import Course\n",
    "\n",
    "from bs4 import BeautifulSoup\n",
    "import requests"
   ]
  },
  {
   "cell_type": "code",
   "execution_count": 26,
   "outputs": [],
   "source": [
    "# variable setup\n",
    "catalog = Catalog()\n",
    "\n",
    "catalog_url = 'http://catalogue.uci.edu/allcourses/engrmae/'\n",
    "save_file_path = 'catalog.json'"
   ],
   "metadata": {
    "collapsed": false,
    "pycharm": {
     "name": "#%%\n"
    }
   }
  },
  {
   "cell_type": "code",
   "execution_count": 38,
   "outputs": [],
   "source": [
    "page = requests.get(catalog_url)\n",
    "soup = BeautifulSoup(page.content, 'html.parser')\n",
    "\n",
    "courses = soup.find_all('div', class_='courseblock')\n",
    "\n",
    "for course in courses:\n",
    "    course_block_title = course.find('p', class_='courseblocktitle')\n",
    "    course_block_desc = course.find('div', class_='courseblockdesc')\n",
    "\n",
    "    course_block_title_text = course_block_title.text.split(sep='.')\n",
    "    section, code = course_block_title_text[0].split(sep='\\xa0')\n",
    "    title = course_block_title_text[1].strip()\n",
    "    units = course_block_title_text[2].split()[0]\n",
    "\n",
    "    description = course_block_desc.findChild().text\n",
    "\n",
    "    catalog.insert(Course(section, code, title, units, description))"
   ],
   "metadata": {
    "collapsed": false,
    "pycharm": {
     "name": "#%%\n"
    }
   }
  },
  {
   "cell_type": "code",
   "execution_count": 39,
   "outputs": [],
   "source": [
    "catalog.save_to_file(save_file_path)"
   ],
   "metadata": {
    "collapsed": false,
    "pycharm": {
     "name": "#%%\n"
    }
   }
  }
 ],
 "metadata": {
  "kernelspec": {
   "display_name": "Python 3",
   "language": "python",
   "name": "python3"
  },
  "language_info": {
   "codemirror_mode": {
    "name": "ipython",
    "version": 2
   },
   "file_extension": ".py",
   "mimetype": "text/x-python",
   "name": "python",
   "nbconvert_exporter": "python",
   "pygments_lexer": "ipython2",
   "version": "2.7.6"
  }
 },
 "nbformat": 4,
 "nbformat_minor": 0
}