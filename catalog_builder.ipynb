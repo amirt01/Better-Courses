{
 "cells": [
  {
   "cell_type": "code",
   "execution_count": 1,
   "metadata": {
    "collapsed": true
   },
   "outputs": [
    {
     "name": "stdout",
     "output_type": "stream",
     "text": [
      "Imports Completed\n"
     ]
    }
   ],
   "source": [
    "# imports\n",
    "\n",
    "from catalog import Catalog\n",
    "from course import Course\n",
    "\n",
    "from bs4 import BeautifulSoup\n",
    "import requests\n",
    "\n",
    "print('Imports Completed')"
   ]
  },
  {
   "cell_type": "code",
   "execution_count": 2,
   "outputs": [
    {
     "name": "stdout",
     "output_type": "stream",
     "text": [
      "Variables Initialized\n"
     ]
    }
   ],
   "source": [
    "# variable setup\n",
    "catalog = Catalog()\n",
    "\n",
    "all_courses_url = 'http://catalogue.uci.edu/allcourses/'\n",
    "save_file_path = 'catalog.json'\n",
    "\n",
    "print('Variables Initialized')"
   ],
   "metadata": {
    "collapsed": false,
    "pycharm": {
     "name": "#%%\n"
    }
   }
  },
  {
   "cell_type": "code",
   "execution_count": 3,
   "outputs": [
    {
     "name": "stdout",
     "output_type": "stream",
     "text": [
      "Soup Made\n"
     ]
    }
   ],
   "source": [
    "all_courses_page = requests.get(all_courses_url)\n",
    "all_courses_soup = BeautifulSoup(all_courses_page.content, 'html.parser')\n",
    "\n",
    "print('Soup Made')"
   ],
   "metadata": {
    "collapsed": false,
    "pycharm": {
     "name": "#%%\n"
    }
   }
  },
  {
   "cell_type": "code",
   "execution_count": 4,
   "outputs": [
    {
     "name": "stdout",
     "output_type": "stream",
     "text": [
      "http://catalogue.uci.edu/allcourses/ac_eng\n",
      "http://catalogue.uci.edu/allcourses/afam\n",
      "http://catalogue.uci.edu/allcourses/anatomy\n",
      "http://catalogue.uci.edu/allcourses/anthro\n",
      "http://catalogue.uci.edu/allcourses/arabic\n",
      "http://catalogue.uci.edu/allcourses/armn\n",
      "http://catalogue.uci.edu/allcourses/art\n",
      "http://catalogue.uci.edu/allcourses/art_his\n",
      "http://catalogue.uci.edu/allcourses/arts\n",
      "http://catalogue.uci.edu/allcourses/asianam\n",
      "http://catalogue.uci.edu/allcourses/biochem\n",
      "http://catalogue.uci.edu/allcourses/bio_sci\n",
      "http://catalogue.uci.edu/allcourses/bats\n",
      "http://catalogue.uci.edu/allcourses/bme\n",
      "http://catalogue.uci.edu/allcourses/bsemd\n",
      "http://catalogue.uci.edu/allcourses/bana\n",
      "http://catalogue.uci.edu/allcourses/cbe\n",
      "http://catalogue.uci.edu/allcourses/cbems\n",
      "http://catalogue.uci.edu/allcourses/chem\n",
      "http://catalogue.uci.edu/allcourses/chc_lat\n",
      "http://catalogue.uci.edu/allcourses/chinese\n",
      "http://catalogue.uci.edu/allcourses/engrcee\n",
      "http://catalogue.uci.edu/allcourses/classic\n",
      "http://catalogue.uci.edu/allcourses/cogs\n",
      "http://catalogue.uci.edu/allcourses/com_lit\n",
      "http://catalogue.uci.edu/allcourses/cse\n",
      "http://catalogue.uci.edu/allcourses/compsci\n",
      "http://catalogue.uci.edu/allcourses/crm_law\n",
      "http://catalogue.uci.edu/allcourses/critism\n",
      "http://catalogue.uci.edu/allcourses/clt_thy\n",
      "http://catalogue.uci.edu/allcourses/dance\n",
      "http://catalogue.uci.edu/allcourses/dev_bio\n",
      "http://catalogue.uci.edu/allcourses/drama\n",
      "http://catalogue.uci.edu/allcourses/earthss\n",
      "http://catalogue.uci.edu/allcourses/eas\n",
      "http://catalogue.uci.edu/allcourses/eco_evo\n",
      "http://catalogue.uci.edu/allcourses/econ\n",
      "http://catalogue.uci.edu/allcourses/educ\n",
      "http://catalogue.uci.edu/allcourses/eecs\n",
      "http://catalogue.uci.edu/allcourses/ecps\n",
      "http://catalogue.uci.edu/allcourses/engr\n",
      "http://catalogue.uci.edu/allcourses/english\n",
      "http://catalogue.uci.edu/allcourses/epidem\n",
      "http://catalogue.uci.edu/allcourses/euro_st\n",
      "http://catalogue.uci.edu/allcourses/mgmt_ep\n",
      "http://catalogue.uci.edu/allcourses/flm_mda\n",
      "http://catalogue.uci.edu/allcourses/fin\n",
      "http://catalogue.uci.edu/allcourses/french\n",
      "http://catalogue.uci.edu/allcourses/mgmt_fe\n",
      "http://catalogue.uci.edu/allcourses/gen_sex\n",
      "http://catalogue.uci.edu/allcourses/german\n",
      "http://catalogue.uci.edu/allcourses/glblclt\n",
      "http://catalogue.uci.edu/allcourses/glblme\n",
      "http://catalogue.uci.edu/allcourses/greek\n",
      "http://catalogue.uci.edu/allcourses/mgmt_hc\n",
      "http://catalogue.uci.edu/allcourses/hebrew\n",
      "http://catalogue.uci.edu/allcourses/history\n",
      "http://catalogue.uci.edu/allcourses/human\n",
      "http://catalogue.uci.edu/allcourses/in4matx\n",
      "http://catalogue.uci.edu/allcourses/i_c_sci\n",
      "http://catalogue.uci.edu/allcourses/intl_st\n",
      "http://catalogue.uci.edu/allcourses/iran\n",
      "http://catalogue.uci.edu/allcourses/italian\n",
      "http://catalogue.uci.edu/allcourses/japanse\n",
      "http://catalogue.uci.edu/allcourses/korean\n",
      "http://catalogue.uci.edu/allcourses/lsci\n",
      "http://catalogue.uci.edu/allcourses/latin\n",
      "http://catalogue.uci.edu/allcourses/linguis\n",
      "http://catalogue.uci.edu/allcourses/lit_jrn\n",
      "http://catalogue.uci.edu/allcourses/lps\n",
      "http://catalogue.uci.edu/allcourses/mgmtmba\n",
      "http://catalogue.uci.edu/allcourses/mgmt\n",
      "http://catalogue.uci.edu/allcourses/mgmtphd\n",
      "http://catalogue.uci.edu/allcourses/mpac\n",
      "http://catalogue.uci.edu/allcourses/mse\n",
      "http://catalogue.uci.edu/allcourses/math\n",
      "http://catalogue.uci.edu/allcourses/engrmae\n",
      "http://catalogue.uci.edu/allcourses/pharm\n",
      "http://catalogue.uci.edu/allcourses/m_mg\n",
      "http://catalogue.uci.edu/allcourses/mol_bio\n",
      "http://catalogue.uci.edu/allcourses/music\n",
      "http://catalogue.uci.edu/allcourses/net_sys\n",
      "http://catalogue.uci.edu/allcourses/neurbio\n",
      "http://catalogue.uci.edu/allcourses/nur_sci\n",
      "http://catalogue.uci.edu/allcourses/path\n",
      "http://catalogue.uci.edu/allcourses/ped_gen\n",
      "http://catalogue.uci.edu/allcourses/persian\n",
      "http://catalogue.uci.edu/allcourses/phrmsci\n",
      "http://catalogue.uci.edu/allcourses/philos\n",
      "http://catalogue.uci.edu/allcourses/phy_sci\n",
      "http://catalogue.uci.edu/allcourses/physics\n",
      "http://catalogue.uci.edu/allcourses/physio\n",
      "http://catalogue.uci.edu/allcourses/pp_d\n",
      "http://catalogue.uci.edu/allcourses/pol_sci\n",
      "http://catalogue.uci.edu/allcourses/portug\n",
      "http://catalogue.uci.edu/allcourses/psci\n",
      "http://catalogue.uci.edu/allcourses/psych\n",
      "http://catalogue.uci.edu/allcourses/pubhlth\n",
      "http://catalogue.uci.edu/allcourses/pub_pol\n",
      "http://catalogue.uci.edu/allcourses/rel_std\n",
      "http://catalogue.uci.edu/allcourses/rotc\n",
      "http://catalogue.uci.edu/allcourses/russian\n",
      "http://catalogue.uci.edu/allcourses/socecol\n",
      "http://catalogue.uci.edu/allcourses/spps\n",
      "http://catalogue.uci.edu/allcourses/soc_sci\n",
      "http://catalogue.uci.edu/allcourses/sociol\n",
      "http://catalogue.uci.edu/allcourses/swe\n",
      "http://catalogue.uci.edu/allcourses/spanish\n",
      "http://catalogue.uci.edu/allcourses/stats\n",
      "http://catalogue.uci.edu/allcourses/tox\n",
      "http://catalogue.uci.edu/allcourses/ucdc\n",
      "http://catalogue.uci.edu/allcourses/uni_aff\n",
      "http://catalogue.uci.edu/allcourses/uni_stu\n",
      "http://catalogue.uci.edu/allcourses/uppp\n",
      "http://catalogue.uci.edu/allcourses/vietmse\n",
      "http://catalogue.uci.edu/allcourses/vis_std\n",
      "http://catalogue.uci.edu/allcourses/writing\n",
      "Catalog Filled\n"
     ]
    }
   ],
   "source": [
    "a_to_z_index = all_courses_soup.find('div', id='atozindex')\n",
    "for section in a_to_z_index.find_all('a', href=True):\n",
    "    section_url = all_courses_url + section['href'].split('/')[2]\n",
    "    print(section_url)\n",
    "    section_page = requests.get(section_url)\n",
    "    section_soup = BeautifulSoup(section_page.content, 'html.parser')\n",
    "\n",
    "    courses = section_soup.find_all('div', class_='courseblock')\n",
    "\n",
    "    for course in courses:\n",
    "        course_block_title = course.find('p', class_='courseblocktitle')\n",
    "        course_block_desc = course.find('div', class_='courseblockdesc')\n",
    "\n",
    "        course_block_title_text = course_block_title.text.split(sep='.')\n",
    "        section_code = course_block_title_text[0].split(sep='\\xa0')\n",
    "        section = ' '.join(section_code[:-1])\n",
    "        code = section_code[-1]\n",
    "        title = course_block_title_text[1].strip()\n",
    "        try:\n",
    "            units = course_block_title_text[2].split()[0]\n",
    "        except IndexError:\n",
    "            units = 0\n",
    "\n",
    "        course_block_desc_children = course_block_desc.findChildren()\n",
    "        description = course_block_desc_children[0].text\n",
    "\n",
    "        design_units = 0\n",
    "        prerequisites = []\n",
    "        corequisites = []\n",
    "\n",
    "        for block in course_block_desc_children:\n",
    "            text = block.text\n",
    "            if 'Prerequisite:' in text:  # Prerequisite\n",
    "                if 'Corequisite:' in text:  # Prerequisite and Corequisite\n",
    "                    text = text.split(sep='\\n')\n",
    "                    corequisites = text[0].partition(' ')[2].strip().replace('\\xa0', ' ').split(sep='.')[0].split(\n",
    "                        sep=' and ')\n",
    "                    prerequisites = text[1].partition(' ')[2].strip().replace('\\xa0', ' ').split(sep='.')[0].split(\n",
    "                        sep=' and ')\n",
    "                else:  # just Prerequisite\n",
    "                    prerequisites = text.partition(' ')[2].strip().replace('\\xa0', ' ').split(sep='.')[0].split(sep=' and ')\n",
    "            elif 'Corequisite:' in text:  # just Corequisite\n",
    "                corequisites = text.partition(' ')[2].strip().replace('\\xa0', ' ').split(sep='.')[0].split(sep=' and ')\n",
    "\n",
    "        # map(lambda prerequisite: prerequisite.strip('()').split(' or '), prerequisites)\n",
    "        # map(lambda corequisite:corequisite.strip('()').split(' or '), corequisites)\n",
    "\n",
    "        catalog.add(Course(section, code, title, units, description,\n",
    "                           corequisites, prerequisites))\n",
    "\n",
    "print('Catalog Filled')"
   ],
   "metadata": {
    "collapsed": false,
    "pycharm": {
     "name": "#%%\n"
    }
   }
  },
  {
   "cell_type": "code",
   "execution_count": 5,
   "outputs": [
    {
     "name": "stdout",
     "output_type": "stream",
     "text": [
      "File Saved\n"
     ]
    }
   ],
   "source": [
    "catalog.save_to_file(save_file_path)\n",
    "\n",
    "print('File Saved')"
   ],
   "metadata": {
    "collapsed": false,
    "pycharm": {
     "name": "#%%\n"
    }
   }
  }
 ],
 "metadata": {
  "kernelspec": {
   "display_name": "Python 3",
   "language": "python",
   "name": "python3"
  },
  "language_info": {
   "codemirror_mode": {
    "name": "ipython",
    "version": 2
   },
   "file_extension": ".py",
   "mimetype": "text/x-python",
   "name": "python",
   "nbconvert_exporter": "python",
   "pygments_lexer": "ipython2",
   "version": "2.7.6"
  }
 },
 "nbformat": 4,
 "nbformat_minor": 0
}