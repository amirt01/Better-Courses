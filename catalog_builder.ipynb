{
 "cells": [
  {
   "cell_type": "code",
   "execution_count": 14,
   "metadata": {
    "collapsed": true
   },
   "outputs": [
    {
     "name": "stdout",
     "output_type": "stream",
     "text": [
      "Imports Completed\n"
     ]
    }
   ],
   "source": [
    "# imports\n",
    "\n",
    "from catalog import Catalog\n",
    "from course import Course\n",
    "\n",
    "from bs4 import BeautifulSoup\n",
    "import requests\n",
    "\n",
    "print('Imports Completed')"
   ]
  },
  {
   "cell_type": "code",
   "execution_count": 15,
   "outputs": [
    {
     "name": "stdout",
     "output_type": "stream",
     "text": [
      "Variables Initialized\n"
     ]
    }
   ],
   "source": [
    "# variable setup\n",
    "catalog = Catalog()\n",
    "\n",
    "all_courses_url = 'http://catalogue.uci.edu/allcourses/'\n",
    "save_file_path = 'catalog.json'\n",
    "\n",
    "print('Variables Initialized')"
   ],
   "metadata": {
    "collapsed": false,
    "pycharm": {
     "name": "#%%\n"
    }
   }
  },
  {
   "cell_type": "code",
   "execution_count": 23,
   "outputs": [
    {
     "name": "stdout",
     "output_type": "stream",
     "text": [
      "Soups Made\n"
     ]
    }
   ],
   "source": [
    "all_courses_page = requests.get(all_courses_url)\n",
    "all_courses_soup = BeautifulSoup(all_courses_page.content, 'html.parser')\n",
    "\n",
    "section_soups = []\n",
    "a_to_z_index = all_courses_soup.find('div', id='atozindex')\n",
    "for section in a_to_z_index.find_all('a', href=True):\n",
    "    section_url = all_courses_url + section['href'].split('/')[2]\n",
    "    section_page = requests.get(section_url)\n",
    "    section_soups.append(BeautifulSoup(section_page.content, 'html.parser'))\n",
    "\n",
    "\n",
    "print('Soups Made')"
   ],
   "metadata": {
    "collapsed": false,
    "pycharm": {
     "name": "#%%\n"
    }
   }
  },
  {
   "cell_type": "code",
   "execution_count": 17,
   "outputs": [
    {
     "name": "stdout",
     "output_type": "stream",
     "text": [
      "Courses Found\n"
     ]
    }
   ],
   "source": [
    "courses = []\n",
    "for section_soup in section_soups:\n",
    "    courses += section_soup.find_all('div', class_='courseblock')\n",
    "\n",
    "print('Courses Found')"
   ],
   "metadata": {
    "collapsed": false,
    "pycharm": {
     "name": "#%%\n"
    }
   }
  },
  {
   "cell_type": "code",
   "execution_count": 21,
   "outputs": [
    {
     "name": "stdout",
     "output_type": "stream",
     "text": [
      "Course Blocks Found\n"
     ]
    }
   ],
   "source": [
    "course_blocks = []\n",
    "for course in courses:\n",
    "    course_blocks.append((course.find('p', class_='courseblocktitle'), course.find('div', class_='courseblockdesc')))\n",
    "\n",
    "print('Course Blocks Found')"
   ],
   "metadata": {
    "collapsed": false,
    "pycharm": {
     "name": "#%%\n"
    }
   }
  },
  {
   "cell_type": "code",
   "execution_count": 19,
   "outputs": [
    {
     "name": "stdout",
     "output_type": "stream",
     "text": [
      "Catalog Filled\n"
     ]
    }
   ],
   "source": [
    "for course_block_title, course_block_desc in course_blocks:\n",
    "    course_block_title_text = course_block_title.text.split(sep='.')\n",
    "    section_code = course_block_title_text[0].split(sep='\\xa0')\n",
    "    section = ' '.join(section_code[:-1])\n",
    "    code = section_code[-1]\n",
    "    title = course_block_title_text[1].strip()\n",
    "    try:\n",
    "        units = course_block_title_text[2].split()[0]\n",
    "    except IndexError:\n",
    "        units = 0\n",
    "\n",
    "    course_block_desc_children = course_block_desc.findChildren()\n",
    "    description = course_block_desc_children[0].text\n",
    "\n",
    "    design_units = 0\n",
    "    prerequisites = []\n",
    "    corequisites = []\n",
    "\n",
    "    for block in course_block_desc_children:\n",
    "        text = block.text\n",
    "        if 'Prerequisite:' in text:  # Prerequisite\n",
    "            if 'Corequisite:' in text:  # Prerequisite and Corequisite\n",
    "                text = text.split(sep='\\n')\n",
    "                corequisites = text[0].partition(' ')[2].strip().replace('\\xa0', ' ').split(sep='.')[0].split(\n",
    "                    sep=' and ')\n",
    "                prerequisites = text[1].partition(' ')[2].strip().replace('\\xa0', ' ').split(sep='.')[0].split(\n",
    "                    sep=' and ')\n",
    "            else:  # just Prerequisite\n",
    "                prerequisites = text.partition(' ')[2].strip().replace('\\xa0', ' ').split(sep='.')[0].split(sep=' and ')\n",
    "        elif 'Corequisite:' in text:  # just Corequisite\n",
    "            corequisites = text.partition(' ')[2].strip().replace('\\xa0', ' ').split(sep='.')[0].split(sep=' and ')\n",
    "\n",
    "    def attempt_split(li):\n",
    "        if len(li) < 2:\n",
    "            return li\n",
    "        ret = []\n",
    "        for el in li:\n",
    "            if el[0] == '(' and el[-1] == ')':\n",
    "                ret.append(el[1:-1].split(' or '))\n",
    "            else:\n",
    "                ret.append(el)\n",
    "        return ret\n",
    "\n",
    "    catalog.add(Course(section, code, title, units, description,\n",
    "                       attempt_split(corequisites), attempt_split(prerequisites)))\n",
    "\n",
    "print('Catalog Filled')"
   ],
   "metadata": {
    "collapsed": false,
    "pycharm": {
     "name": "#%%\n"
    }
   }
  },
  {
   "cell_type": "code",
   "execution_count": 22,
   "outputs": [
    {
     "name": "stdout",
     "output_type": "stream",
     "text": [
      "Catalog Saved\n"
     ]
    }
   ],
   "source": [
    "catalog.save_to_file(save_file_path)\n",
    "\n",
    "print('Catalog Saved')"
   ],
   "metadata": {
    "collapsed": false,
    "pycharm": {
     "name": "#%%\n"
    }
   }
  }
 ],
 "metadata": {
  "kernelspec": {
   "display_name": "Python 3",
   "language": "python",
   "name": "python3"
  },
  "language_info": {
   "codemirror_mode": {
    "name": "ipython",
    "version": 2
   },
   "file_extension": ".py",
   "mimetype": "text/x-python",
   "name": "python",
   "nbconvert_exporter": "python",
   "pygments_lexer": "ipython2",
   "version": "2.7.6"
  }
 },
 "nbformat": 4,
 "nbformat_minor": 0
}