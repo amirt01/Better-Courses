{
 "cells": [
  {
   "cell_type": "code",
   "execution_count": 57,
   "metadata": {
    "collapsed": true
   },
   "outputs": [],
   "source": [
    "# imports\n",
    "\n",
    "from catalog import Catalog\n",
    "from course import Course\n",
    "\n",
    "from bs4 import BeautifulSoup\n",
    "import requests"
   ]
  },
  {
   "cell_type": "code",
   "execution_count": 58,
   "outputs": [],
   "source": [
    "# variable setup\n",
    "catalog = Catalog()\n",
    "\n",
    "catalog_url = 'http://catalogue.uci.edu/allcourses/engrmae/'\n",
    "save_file_path = 'catalog.json'"
   ],
   "metadata": {
    "collapsed": false,
    "pycharm": {
     "name": "#%%\n"
    }
   }
  },
  {
   "cell_type": "code",
   "execution_count": 70,
   "outputs": [
    {
     "ename": "TypeError",
     "evalue": "__init__() got an unexpected keyword argument 'design_units'",
     "output_type": "error",
     "traceback": [
      "\u001B[1;31m---------------------------------------------------------------------------\u001B[0m",
      "\u001B[1;31mTypeError\u001B[0m                                 Traceback (most recent call last)",
      "\u001B[1;32m<ipython-input-70-2c0fd587932b>\u001B[0m in \u001B[0;36m<module>\u001B[1;34m\u001B[0m\n\u001B[0;32m     30\u001B[0m             \u001B[0mdesign_units\u001B[0m \u001B[1;33m=\u001B[0m \u001B[0mtext\u001B[0m\u001B[1;33m.\u001B[0m\u001B[0mstrip\u001B[0m\u001B[1;33m(\u001B[0m\u001B[1;34m\"()\"\u001B[0m\u001B[1;33m)\u001B[0m\u001B[1;33m.\u001B[0m\u001B[0msplit\u001B[0m\u001B[1;33m(\u001B[0m\u001B[1;33m)\u001B[0m\u001B[1;33m[\u001B[0m\u001B[1;33m-\u001B[0m\u001B[1;36m1\u001B[0m\u001B[1;33m]\u001B[0m\u001B[1;33m\u001B[0m\u001B[1;33m\u001B[0m\u001B[0m\n\u001B[0;32m     31\u001B[0m \u001B[1;33m\u001B[0m\u001B[0m\n\u001B[1;32m---> 32\u001B[1;33m     \u001B[0mcatalog\u001B[0m\u001B[1;33m.\u001B[0m\u001B[0minsert\u001B[0m\u001B[1;33m(\u001B[0m\u001B[0mCourse\u001B[0m\u001B[1;33m(\u001B[0m\u001B[0msection\u001B[0m\u001B[1;33m,\u001B[0m \u001B[0mcode\u001B[0m\u001B[1;33m,\u001B[0m \u001B[0mtitle\u001B[0m\u001B[1;33m,\u001B[0m \u001B[0munits\u001B[0m\u001B[1;33m,\u001B[0m \u001B[0mdescription\u001B[0m\u001B[1;33m,\u001B[0m \u001B[0mdesign_units\u001B[0m\u001B[1;33m=\u001B[0m\u001B[0mdesign_units\u001B[0m\u001B[1;33m,\u001B[0m \u001B[0mcorequisites\u001B[0m\u001B[1;33m=\u001B[0m\u001B[0mcorequisites\u001B[0m\u001B[1;33m,\u001B[0m \u001B[0mprerequisites\u001B[0m\u001B[1;33m=\u001B[0m\u001B[0mprerequisites\u001B[0m\u001B[1;33m)\u001B[0m\u001B[1;33m)\u001B[0m\u001B[1;33m\u001B[0m\u001B[1;33m\u001B[0m\u001B[0m\n\u001B[0m",
      "\u001B[1;31mTypeError\u001B[0m: __init__() got an unexpected keyword argument 'design_units'"
     ]
    }
   ],
   "source": [
    "page = requests.get(catalog_url)\n",
    "soup = BeautifulSoup(page.content, 'html.parser')\n",
    "\n",
    "courses = soup.find_all('div', class_='courseblock')\n",
    "\n",
    "for course in courses:\n",
    "    course_block_title = course.find('p', class_='courseblocktitle')\n",
    "    course_block_desc = course.find('div', class_='courseblockdesc')\n",
    "\n",
    "    course_block_title_text = course_block_title.text.split(sep='.')\n",
    "    section, code = course_block_title_text[0].split(sep='\\xa0')\n",
    "    title = course_block_title_text[1].strip()\n",
    "    units = course_block_title_text[2].split()[0]\n",
    "\n",
    "    course_block_desc_children = course_block_desc.findChildren()\n",
    "    description = course_block_desc_children[0].text\n",
    "\n",
    "    for block in course_block_desc_children:\n",
    "        text = block.text\n",
    "        if 'Prerequisite' in text:\n",
    "            if 'Corequisite' in text:\n",
    "                text = text.split(sep='\\n')\n",
    "                corequisites = text[0].partition(' ')[2]\n",
    "                prerequisites = text[1].partition(\" \")[2]\n",
    "            else:\n",
    "                prerequisites = text.partition(\" \")[2]\n",
    "        elif 'Corequisite' in text:\n",
    "            corequisite = text.partition(\" \")[2]\n",
    "        elif 'Design units' in text:\n",
    "            design_units = text.strip(\"()\").split()[-1]\n",
    "\n",
    "    catalog.insert(Course(section, code, title, units, description, design_units=design_units, corequisites=corequisites, prerequisites=prerequisites))"
   ],
   "metadata": {
    "collapsed": false,
    "pycharm": {
     "name": "#%%\n"
    }
   }
  },
  {
   "cell_type": "code",
   "execution_count": 60,
   "outputs": [],
   "source": [
    "catalog.save_to_file(save_file_path)"
   ],
   "metadata": {
    "collapsed": false,
    "pycharm": {
     "name": "#%%\n"
    }
   }
  }
 ],
 "metadata": {
  "kernelspec": {
   "display_name": "Python 3",
   "language": "python",
   "name": "python3"
  },
  "language_info": {
   "codemirror_mode": {
    "name": "ipython",
    "version": 2
   },
   "file_extension": ".py",
   "mimetype": "text/x-python",
   "name": "python",
   "nbconvert_exporter": "python",
   "pygments_lexer": "ipython2",
   "version": "2.7.6"
  }
 },
 "nbformat": 4,
 "nbformat_minor": 0
}