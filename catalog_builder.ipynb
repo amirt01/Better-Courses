{
 "cells": [
  {
   "cell_type": "markdown",
   "source": [
    "# UCI Catalog Builder\n",
    "This script scrapes the UCI website to retrieve class information\n",
    "\n"
   ],
   "metadata": {
    "collapsed": false,
    "pycharm": {
     "name": "#%% md\n"
    }
   }
  },
  {
   "cell_type": "code",
   "execution_count": 2,
   "metadata": {
    "collapsed": true
   },
   "outputs": [
    {
     "name": "stdout",
     "output_type": "stream",
     "text": [
      "Imports Completed\n"
     ]
    }
   ],
   "source": [
    "# imports\n",
    "\n",
    "from catalog import Catalog\n",
    "from course import Course\n",
    "\n",
    "from bs4 import BeautifulSoup\n",
    "import requests\n",
    "\n",
    "print('Imports Completed')"
   ]
  },
  {
   "cell_type": "code",
   "execution_count": 3,
   "outputs": [
    {
     "name": "stdout",
     "output_type": "stream",
     "text": [
      "Variables Initialized\n"
     ]
    }
   ],
   "source": [
    "# variable setup\n",
    "catalog = Catalog()\n",
    "\n",
    "all_courses_url = 'http://catalogue.uci.edu/allcourses/'\n",
    "save_file_path = 'catalog.json'\n",
    "\n",
    "print('Variables Initialized')"
   ],
   "metadata": {
    "collapsed": false,
    "pycharm": {
     "name": "#%%\n"
    }
   }
  },
  {
   "cell_type": "code",
   "execution_count": null,
   "outputs": [
    {
     "ename": "UnicodeEncodeError",
     "evalue": "'charmap' codec can't encode characters in position 1-41: character maps to <undefined>",
     "output_type": "error",
     "traceback": [
      "\u001B[1;31m---------------------------------------------------------------------------\u001B[0m",
      "\u001B[1;31mUnicodeEncodeError\u001B[0m                        Traceback (most recent call last)",
      "\u001B[1;32m<ipython-input-4-4a86b534e6b5>\u001B[0m in \u001B[0;36m<module>\u001B[1;34m\u001B[0m\n\u001B[0;32m     14\u001B[0m         \u001B[0msection_page\u001B[0m \u001B[1;33m=\u001B[0m \u001B[0mrequests\u001B[0m\u001B[1;33m.\u001B[0m\u001B[0mget\u001B[0m\u001B[1;33m(\u001B[0m\u001B[0msection_url\u001B[0m\u001B[1;33m)\u001B[0m\u001B[1;33m\u001B[0m\u001B[1;33m\u001B[0m\u001B[0m\n\u001B[0;32m     15\u001B[0m         \u001B[0msection_soups\u001B[0m\u001B[1;33m.\u001B[0m\u001B[0mappend\u001B[0m\u001B[1;33m(\u001B[0m\u001B[0mBeautifulSoup\u001B[0m\u001B[1;33m(\u001B[0m\u001B[0msection_page\u001B[0m\u001B[1;33m.\u001B[0m\u001B[0mcontent\u001B[0m\u001B[1;33m,\u001B[0m \u001B[1;34m'html.parser'\u001B[0m\u001B[1;33m)\u001B[0m\u001B[1;33m)\u001B[0m\u001B[1;33m\u001B[0m\u001B[1;33m\u001B[0m\u001B[0m\n\u001B[1;32m---> 16\u001B[1;33m         \u001B[0mbar\u001B[0m\u001B[1;33m(\u001B[0m\u001B[1;33m)\u001B[0m\u001B[1;33m\u001B[0m\u001B[1;33m\u001B[0m\u001B[0m\n\u001B[0m\u001B[0;32m     17\u001B[0m \u001B[1;33m\u001B[0m\u001B[0m\n\u001B[0;32m     18\u001B[0m \u001B[1;33m\u001B[0m\u001B[0m\n",
      "\u001B[1;32mc:\\users\\amirt\\appdata\\local\\programs\\python\\python39\\lib\\contextlib.py\u001B[0m in \u001B[0;36m__exit__\u001B[1;34m(self, type, value, traceback)\u001B[0m\n\u001B[0;32m    122\u001B[0m         \u001B[1;32mif\u001B[0m \u001B[0mtype\u001B[0m \u001B[1;32mis\u001B[0m \u001B[1;32mNone\u001B[0m\u001B[1;33m:\u001B[0m\u001B[1;33m\u001B[0m\u001B[1;33m\u001B[0m\u001B[0m\n\u001B[0;32m    123\u001B[0m             \u001B[1;32mtry\u001B[0m\u001B[1;33m:\u001B[0m\u001B[1;33m\u001B[0m\u001B[1;33m\u001B[0m\u001B[0m\n\u001B[1;32m--> 124\u001B[1;33m                 \u001B[0mnext\u001B[0m\u001B[1;33m(\u001B[0m\u001B[0mself\u001B[0m\u001B[1;33m.\u001B[0m\u001B[0mgen\u001B[0m\u001B[1;33m)\u001B[0m\u001B[1;33m\u001B[0m\u001B[1;33m\u001B[0m\u001B[0m\n\u001B[0m\u001B[0;32m    125\u001B[0m             \u001B[1;32mexcept\u001B[0m \u001B[0mStopIteration\u001B[0m\u001B[1;33m:\u001B[0m\u001B[1;33m\u001B[0m\u001B[1;33m\u001B[0m\u001B[0m\n\u001B[0;32m    126\u001B[0m                 \u001B[1;32mreturn\u001B[0m \u001B[1;32mFalse\u001B[0m\u001B[1;33m\u001B[0m\u001B[1;33m\u001B[0m\u001B[0m\n",
      "\u001B[1;32mc:\\users\\amirt\\appdata\\local\\programs\\python\\python39\\lib\\site-packages\\alive_progress\\core\\progress.py\u001B[0m in \u001B[0;36malive_bar\u001B[1;34m(total, title, calibrate, **options)\u001B[0m\n\u001B[0;32m    280\u001B[0m \u001B[1;33m\u001B[0m\u001B[0m\n\u001B[0;32m    281\u001B[0m         \u001B[0mend\u001B[0m\u001B[1;33m,\u001B[0m \u001B[0mrun\u001B[0m\u001B[1;33m.\u001B[0m\u001B[0mtext\u001B[0m\u001B[1;33m,\u001B[0m \u001B[0mstats\u001B[0m \u001B[1;33m=\u001B[0m \u001B[1;32mTrue\u001B[0m\u001B[1;33m,\u001B[0m \u001B[1;34m''\u001B[0m\u001B[1;33m,\u001B[0m \u001B[0mstats_end\u001B[0m\u001B[1;33m\u001B[0m\u001B[1;33m\u001B[0m\u001B[0m\n\u001B[1;32m--> 282\u001B[1;33m         \u001B[0malive_repr\u001B[0m\u001B[1;33m(\u001B[0m\u001B[1;33m)\u001B[0m\u001B[1;33m\u001B[0m\u001B[1;33m\u001B[0m\u001B[0m\n\u001B[0m",
      "\u001B[1;32mc:\\users\\amirt\\appdata\\local\\programs\\python\\python39\\lib\\site-packages\\alive_progress\\core\\progress.py\u001B[0m in \u001B[0;36malive_repr\u001B[1;34m(spin)\u001B[0m\n\u001B[0;32m    114\u001B[0m             \u001B[1;32mif\u001B[0m \u001B[0mline_len\u001B[0m \u001B[1;33m<\u001B[0m \u001B[0mrun\u001B[0m\u001B[1;33m.\u001B[0m\u001B[0mlast_line_len\u001B[0m\u001B[1;33m:\u001B[0m\u001B[1;33m\u001B[0m\u001B[1;33m\u001B[0m\u001B[0m\n\u001B[0;32m    115\u001B[0m                 \u001B[0mclear_traces\u001B[0m\u001B[1;33m(\u001B[0m\u001B[1;33m)\u001B[0m\u001B[1;33m\u001B[0m\u001B[1;33m\u001B[0m\u001B[0m\n\u001B[1;32m--> 116\u001B[1;33m             \u001B[0msys\u001B[0m\u001B[1;33m.\u001B[0m\u001B[0m__stdout__\u001B[0m\u001B[1;33m.\u001B[0m\u001B[0mwrite\u001B[0m\u001B[1;33m(\u001B[0m\u001B[0mline\u001B[0m\u001B[1;33m[\u001B[0m\u001B[1;33m:\u001B[0m\u001B[0mcols\u001B[0m\u001B[1;33m]\u001B[0m \u001B[1;33m+\u001B[0m \u001B[1;33m(\u001B[0m\u001B[0mspin\u001B[0m \u001B[1;32mand\u001B[0m \u001B[1;34m'\\r'\u001B[0m \u001B[1;32mor\u001B[0m \u001B[1;34m'\\n'\u001B[0m\u001B[1;33m)\u001B[0m\u001B[1;33m)\u001B[0m\u001B[1;33m\u001B[0m\u001B[1;33m\u001B[0m\u001B[0m\n\u001B[0m\u001B[0;32m    117\u001B[0m             \u001B[0msys\u001B[0m\u001B[1;33m.\u001B[0m\u001B[0m__stdout__\u001B[0m\u001B[1;33m.\u001B[0m\u001B[0mflush\u001B[0m\u001B[1;33m(\u001B[0m\u001B[1;33m)\u001B[0m\u001B[1;33m\u001B[0m\u001B[1;33m\u001B[0m\u001B[0m\n\u001B[0;32m    118\u001B[0m \u001B[1;33m\u001B[0m\u001B[0m\n",
      "\u001B[1;32mc:\\users\\amirt\\appdata\\local\\programs\\python\\python39\\lib\\encodings\\cp1252.py\u001B[0m in \u001B[0;36mencode\u001B[1;34m(self, input, final)\u001B[0m\n\u001B[0;32m     17\u001B[0m \u001B[1;32mclass\u001B[0m \u001B[0mIncrementalEncoder\u001B[0m\u001B[1;33m(\u001B[0m\u001B[0mcodecs\u001B[0m\u001B[1;33m.\u001B[0m\u001B[0mIncrementalEncoder\u001B[0m\u001B[1;33m)\u001B[0m\u001B[1;33m:\u001B[0m\u001B[1;33m\u001B[0m\u001B[1;33m\u001B[0m\u001B[0m\n\u001B[0;32m     18\u001B[0m     \u001B[1;32mdef\u001B[0m \u001B[0mencode\u001B[0m\u001B[1;33m(\u001B[0m\u001B[0mself\u001B[0m\u001B[1;33m,\u001B[0m \u001B[0minput\u001B[0m\u001B[1;33m,\u001B[0m \u001B[0mfinal\u001B[0m\u001B[1;33m=\u001B[0m\u001B[1;32mFalse\u001B[0m\u001B[1;33m)\u001B[0m\u001B[1;33m:\u001B[0m\u001B[1;33m\u001B[0m\u001B[1;33m\u001B[0m\u001B[0m\n\u001B[1;32m---> 19\u001B[1;33m         \u001B[1;32mreturn\u001B[0m \u001B[0mcodecs\u001B[0m\u001B[1;33m.\u001B[0m\u001B[0mcharmap_encode\u001B[0m\u001B[1;33m(\u001B[0m\u001B[0minput\u001B[0m\u001B[1;33m,\u001B[0m\u001B[0mself\u001B[0m\u001B[1;33m.\u001B[0m\u001B[0merrors\u001B[0m\u001B[1;33m,\u001B[0m\u001B[0mencoding_table\u001B[0m\u001B[1;33m)\u001B[0m\u001B[1;33m[\u001B[0m\u001B[1;36m0\u001B[0m\u001B[1;33m]\u001B[0m\u001B[1;33m\u001B[0m\u001B[1;33m\u001B[0m\u001B[0m\n\u001B[0m\u001B[0;32m     20\u001B[0m \u001B[1;33m\u001B[0m\u001B[0m\n\u001B[0;32m     21\u001B[0m \u001B[1;32mclass\u001B[0m \u001B[0mIncrementalDecoder\u001B[0m\u001B[1;33m(\u001B[0m\u001B[0mcodecs\u001B[0m\u001B[1;33m.\u001B[0m\u001B[0mIncrementalDecoder\u001B[0m\u001B[1;33m)\u001B[0m\u001B[1;33m:\u001B[0m\u001B[1;33m\u001B[0m\u001B[1;33m\u001B[0m\u001B[0m\n",
      "\u001B[1;31mUnicodeEncodeError\u001B[0m: 'charmap' codec can't encode characters in position 1-41: character maps to <undefined>"
     ]
    }
   ],
   "source": [
    "from alive_progress import alive_bar\n",
    "\n",
    "all_courses_page = requests.get(all_courses_url)\n",
    "all_courses_soup = BeautifulSoup(all_courses_page.content, 'html.parser')\n",
    "\n",
    "print('URLs Soupified:')\n",
    "\n",
    "section_soups = []\n",
    "a_to_z_index = all_courses_soup.find('div', id='atozindex')\n",
    "with alive_bar(len(a_to_z_index)) as bar:\n",
    "    for section in a_to_z_index.find_all('a', href=True):\n",
    "        section_url = all_courses_url + section['href'].split('/')[2]\n",
    "        # print(section_url)\n",
    "        section_page = requests.get(section_url)\n",
    "        section_soups.append(BeautifulSoup(section_page.content, 'html.parser'))\n",
    "        bar()\n",
    "\n",
    "\n",
    "print(f'{len(section_soups)} Soups Made')"
   ],
   "metadata": {
    "collapsed": false,
    "pycharm": {
     "name": "#%%\n"
    }
   }
  },
  {
   "cell_type": "code",
   "execution_count": 4,
   "outputs": [
    {
     "name": "stdout",
     "output_type": "stream",
     "text": [
      "5853 Courses Found\n"
     ]
    }
   ],
   "source": [
    "courses = []\n",
    "for section_soup in section_soups:\n",
    "    courses += section_soup.find_all('div', class_='courseblock')\n",
    "\n",
    "print(f'{len(courses)} Courses Found')"
   ],
   "metadata": {
    "collapsed": false,
    "pycharm": {
     "name": "#%%\n"
    }
   }
  },
  {
   "cell_type": "code",
   "execution_count": 5,
   "outputs": [
    {
     "name": "stdout",
     "output_type": "stream",
     "text": [
      "Course Blocks Found\n"
     ]
    }
   ],
   "source": [
    "course_blocks = []\n",
    "for course in courses:\n",
    "    course_blocks.append((course.find('p', class_='courseblocktitle'), course.find('div', class_='courseblockdesc')))\n",
    "\n",
    "print('Course Blocks Found')"
   ],
   "metadata": {
    "collapsed": false,
    "pycharm": {
     "name": "#%%\n"
    }
   }
  },
  {
   "cell_type": "code",
   "execution_count": 6,
   "outputs": [
    {
     "name": "stdout",
     "output_type": "stream",
     "text": [
      "Catalog Filled\n"
     ]
    }
   ],
   "source": [
    "for course_block_title, course_block_desc in course_blocks:\n",
    "    course_block_title_text = course_block_title.text.split(sep='.')\n",
    "    section_code = course_block_title_text[0].split(sep='\\xa0')\n",
    "    section = ' '.join(section_code[:-1])\n",
    "    code = section_code[-1]\n",
    "    title = course_block_title_text[1].strip()\n",
    "    try:\n",
    "        units = course_block_title_text[2].split()[0]\n",
    "    except IndexError:\n",
    "        units = 0\n",
    "\n",
    "    course_block_desc_children = course_block_desc.findChildren()\n",
    "    description = course_block_desc_children[0].text\n",
    "\n",
    "    design_units = 0\n",
    "    prerequisites = []\n",
    "    corequisites = []\n",
    "\n",
    "    for block in course_block_desc_children:\n",
    "        text = block.text\n",
    "        if 'Prerequisite:' in text:  # Prerequisite\n",
    "            if 'Corequisite:' in text:  # Prerequisite and Corequisite\n",
    "                text = text.split(sep='\\n')\n",
    "                corequisites = text[0].partition(' ')[2].strip().replace('\\xa0', ' ').split(sep='.')[0].split(\n",
    "                    sep=' and ')\n",
    "                prerequisites = text[1].partition(' ')[2].strip().replace('\\xa0', ' ').split(sep='.')[0].split(\n",
    "                    sep=' and ')\n",
    "            else:  # just Prerequisite\n",
    "                prerequisites = text.partition(' ')[2].strip().replace('\\xa0', ' ').split(sep='.')[0].split(sep=' and ')\n",
    "        elif 'Corequisite:' in text:  # just Corequisite\n",
    "            corequisites = text.partition(' ')[2].strip().replace('\\xa0', ' ').split(sep='.')[0].split(sep=' and ')\n",
    "\n",
    "    def attempt_split(li):\n",
    "        if len(li) < 2:\n",
    "            return li\n",
    "        ret = []\n",
    "        for el in li:\n",
    "            if el[0] == '(' and el[-1] == ')':\n",
    "                ret.append(el[1:-1].split(' or '))\n",
    "            else:\n",
    "                ret.append(el)\n",
    "        return ret\n",
    "\n",
    "    catalog.add(Course(section, code, title, units, description,\n",
    "                       attempt_split(corequisites), attempt_split(prerequisites)))\n",
    "\n",
    "print('Catalog Filled')"
   ],
   "metadata": {
    "collapsed": false,
    "pycharm": {
     "name": "#%%\n"
    }
   }
  },
  {
   "cell_type": "code",
   "execution_count": 7,
   "outputs": [
    {
     "name": "stdout",
     "output_type": "stream",
     "text": [
      "Catalog Saved\n"
     ]
    }
   ],
   "source": [
    "catalog.save_to_file(save_file_path)\n",
    "\n",
    "print('Catalog Saved')"
   ],
   "metadata": {
    "collapsed": false,
    "pycharm": {
     "name": "#%%\n"
    }
   }
  }
 ],
 "metadata": {
  "kernelspec": {
   "display_name": "Python 3",
   "language": "python",
   "name": "python3"
  },
  "language_info": {
   "codemirror_mode": {
    "name": "ipython",
    "version": 2
   },
   "file_extension": ".py",
   "mimetype": "text/x-python",
   "name": "python",
   "nbconvert_exporter": "python",
   "pygments_lexer": "ipython2",
   "version": "2.7.6"
  }
 },
 "nbformat": 4,
 "nbformat_minor": 0
}